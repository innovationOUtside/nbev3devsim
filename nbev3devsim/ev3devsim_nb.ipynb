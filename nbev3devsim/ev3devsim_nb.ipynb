{
 "cells": [
  {
   "cell_type": "markdown",
   "metadata": {},
   "source": [
    "# Ev3devsim_nb\n",
    "\n",
    "Exploring ??? in a notebook context."
   ]
  },
  {
   "cell_type": "code",
   "execution_count": null,
   "metadata": {
    "execution_event_id": "f4765674-9275-464f-ba6a-040d4fae0851",
    "last_executed_text": "import jp_proxy_widget\nfrom jp_proxy_widget import js_context\nfrom IPython.display import HTML, display\n\nfrom IPython import get_ipython\nfrom datetime import datetime",
    "persistent_id": "8f39c9be-5a7d-4cb5-b243-006a1ebada4d"
   },
   "outputs": [],
   "source": [
    "import jp_proxy_widget\n",
    "from jp_proxy_widget import js_context\n",
    "from IPython.display import HTML, display\n",
    "\n",
    "from IPython import get_ipython\n",
    "from datetime import datetime"
   ]
  },
  {
   "cell_type": "code",
   "execution_count": null,
   "metadata": {
    "lines_to_next_cell": 0
   },
   "outputs": [],
   "source": [
    "from pkg_resources import resource_exists, resource_filename\n",
    "\n",
    "def get_file_path(fn):\n",
    "    \"\"\"Get file content from local store.\"\"\"\n",
    "    # This should work locally or in package\n",
    "    try:\n",
    "        resource_exists(__name__, fn)\n",
    "        return resource_filename(__name__, fn)\n",
    "    except:\n",
    "        pass\n",
    "    return fn\n",
    "\n",
    "\n"
   ]
  },
  {
   "cell_type": "code",
   "execution_count": null,
   "metadata": {},
   "outputs": [],
   "source": [
    "import os\n",
    "import os.path\n",
    "import shutil"
   ]
  },
  {
   "cell_type": "code",
   "execution_count": null,
   "metadata": {},
   "outputs": [],
   "source": [
    "# Copy over background files\n",
    "_dir = \"backgrounds\""
   ]
  },
  {
   "cell_type": "code",
   "execution_count": null,
   "metadata": {},
   "outputs": [],
   "source": [
    "#Py 3.8?\n",
    "#shutil.copytree(get_file_path(_dir), _dir, dirs_exist_ok=True)\n",
    "if not os.path.isdir(_dir):\n",
    "    os.makedirs(_dir)\n",
    "_path = get_file_path(_dir)\n",
    "for f in os.listdir(_path):\n",
    "    shutil.copy(os.path.join(get_file_path(_dir), f), _dir)"
   ]
  },
  {
   "cell_type": "code",
   "execution_count": null,
   "metadata": {},
   "outputs": [],
   "source": [
    "with open(get_file_path('templates/studio.html'), 'r') as f:\n",
    "    html = f.read()"
   ]
  },
  {
   "cell_type": "code",
   "execution_count": null,
   "metadata": {
    "execution_event_id": "ab87e3f4-1e4c-4d8a-a21f-987b1fe4ab68",
    "last_executed_text": "script_built = '''\n\nfunction setPos(x, y, angle) {\n        var x = parseFloat(x);\n        var y = parseFloat(y);\n        var angleRadian = parseFloat(angle) / 180 * Math.PI;\n\n        if (isNaN(x)) { x = 0; }\n        if (isNaN(y)) { y = 0; }\n        if (isNaN(angleRadian)) { angleRadian = 0; angle = 0; }\n\n        document.getElementById('xPos').value = x;\n        document.getElementById('yPos').value = y;\n        document.getElementById('angle').value  = angle;\n\n        sim.setRobotPos(x, y, angleRadian);\n        sim.drawAll();\n      }\n\nvar sim = new EV3devSim('field');\n\nsetPos(1181, 571, 0);\ndocument.getElementById('map').value = 'Empty Map';\ndocument.getElementById('walls').checked = true;\ndocument.getElementById('obstacles').checked = true;\n\n\n  document.getElementById('configureObstacles').addEventListener('click', function() {\n        document.getElementById('obstaclesConfigurator').classList.remove('closed');\n        var obstacles = JSON.stringify(sim.obstacles, null, 2);\n        document.getElementById('obstaclesConfiguratorEditor').value = obstacles;\n      });\n      document.getElementById('obstaclesConfiguratorApply').addEventListener('click', function() {\n        var json = document.getElementById('obstaclesConfiguratorEditor').value;\n        \n        var obstacles = JSON.parse(json);\n        sim.clearObstacles();\n        sim.clearObstaclesLayer();\n        sim.loadObstacles(obstacles);\n        document.getElementById('obstaclesConfigurator').classList.add('closed');\n      });\n      document.getElementById('obstaclesConfiguratorClose').addEventListener('click', function() {\n        document.getElementById('obstaclesConfigurator').classList.add('closed');\n      });\n      document.getElementById('obstaclesConfiguratordownload').addEventListener('click', function() {\n        var obstaclesSpecs = document.getElementById('obstaclesConfiguratorEditor').value\n        \n        var hiddenElement = document.createElement('a');\n        hiddenElement.href = 'data:application/json;base64,' + btoa(obstaclesSpecs);\n        hiddenElement.target = '_blank';\n        hiddenElement.download = 'obstacles_config.json';\n        hiddenElement.dispatchEvent(new MouseEvent('click'));\n      });\n      document.getElementById('obstaclesConfiguratorupload').addEventListener('click', function() {\n        var hiddenElement = document.createElement('input');\n        hiddenElement.type = 'file';\n        hiddenElement.accept = 'application/json,.json,.js';\n        hiddenElement.dispatchEvent(new MouseEvent('click'));\n        hiddenElement.addEventListener('change', function(e){\n          var reader = new FileReader();\n          reader.onload = function() {\n            document.getElementById('obstaclesConfiguratorEditor').value = this.result;\n          };\n          reader.readAsText(e.target.files[0]);\n        });\n      });\n      \n           document.getElementById('showRays').addEventListener('click', function() {\n        if (document.getElementById('showRays').checked) {\n          sim.drawUltrasonic = true;\n        } else {\n          sim.drawUltrasonic = false;\n        }\n        sim.drawAll();\n      });\n      document.getElementById('walls').addEventListener('click', function() {\n        if (document.getElementById('walls').checked) {\n          sim.setWallsPresent(true);\n        } else {\n          sim.setWallsPresent(false);\n        }\n      });\n      document.getElementById('obstacles').addEventListener('click', function() {\n        if (document.getElementById('obstacles').checked) {\n          sim.obstaclesPresent = true;\n          sim.clearObstaclesLayer();\n          sim.drawObstacles();\n        } else {\n          sim.obstaclesPresent = false;\n          sim.clearObstaclesLayer();\n        }\n      });\n      document.getElementById('move').addEventListener('click', function() {\n        setPos(\n          document.getElementById('xPos').value,\n          document.getElementById('yPos').value,\n          document.getElementById('angle').value\n        );\n      });\n      document.getElementById('stop').addEventListener('click', function() {\n        sim.stopAnimation();\n        Sk.hardInterrupt = true;\n      });\n      document.getElementById('largeFont').addEventListener('change', function(e) {\n        if (e.target.checked) {\n          document.getElementById('editor').classList.add('large');\n        } else {\n          document.getElementById('editor').classList.remove('large');\n        }\n      });\n      document.getElementById('longWindow').addEventListener('change', function(e) {\n        if (e.target.checked) {\n          document.getElementById('editor').classList.add('long');\n        } else {\n          document.getElementById('editor').classList.remove('long');\n        }\n        window.dispatchEvent(new Event('resize'));\n      });\n      document.getElementById('download').addEventListener('click', function() {\n        var hiddenElement = document.createElement('a');\n        hiddenElement.href = 'data:text/x-python;base64,' + btoa(element.prog);\n        hiddenElement.target = '_blank';\n        hiddenElement.download = 'robot.py';\n        hiddenElement.dispatchEvent(new MouseEvent('click'));\n      });\n      document.getElementById('upload').addEventListener('click', function() {\n        var hiddenElement = document.createElement('input');\n        hiddenElement.type = 'file';\n        hiddenElement.accept = 'text/x-python,.py';\n        hiddenElement.dispatchEvent(new MouseEvent('click'));\n        hiddenElement.addEventListener('change', function(e){\n          var reader = new FileReader();\n          reader.onload = function() {\n            element.prog = this.result;\n          };\n          reader.readAsText(e.target.files[0]);\n        });\n      });\n      var imagepath = 'images/'\n      //sim.loadBackground(imagepath+'WRO-2019-Regular-Junior.jpg');\n      document.getElementById('map').addEventListener('input', function() {\n        var map = document.getElementById('map').value;\n\n     if (map == 'WRO 2019 Regular Junior') {\n          sim.loadBackground(imagepath+'WRO-2019-Regular-Junior.jpg');\n          sim.clearObstacles();\n          sim.clearObstaclesLayer();\n          setPos(2215, 150, 90);\n\n        } else if (map == 'WRO 2018 Regular Junior') {\n          sim.loadBackground(imagepath+'WRO-2018-Regular-Junior.png');\n          sim.clearObstacles();\n          sim.clearObstaclesLayer();\n          setPos(1181, 150, 90);\n\n        } else if (map == 'FLL 2019 - City Shaper') {\n          sim.loadBackground(imagepath+'FLL2019.jpg');\n          sim.clearObstacles();\n          sim.clearObstaclesLayer();\n          setPos(500, 150, 90);\n\n        } else if (map == 'FLL 2018 - Into Orbit') {\n          sim.loadBackground(imagepath+'FLL2018.jpg');\n          sim.clearObstacles();\n          sim.clearObstaclesLayer();\n          setPos(150, 150, 90);\n\n        } else if (map == 'Line Following Test') {\n          sim.loadBackground(imagepath+'Line_Following_Test.png');\n          sim.clearObstacles();\n          sim.clearObstaclesLayer();\n          setPos(141, 125, 90);\n\n        } else if (map == 'Junction Handling Test') {\n          sim.loadBackground(imagepath+'Junction_Handling_Test.png');\n          sim.clearObstacles();\n          sim.clearObstaclesLayer();\n          setPos(698, 130, 90);\n\n        } else if (map == 'Obstacles Test') {\n          sim.loadBackground(imagepath+'Obstacles_Test.png');\n          setPos(121, 125, 90);\n          sim.clearObstacles();\n          sim.clearObstaclesLayer();\n          sim.loadObstacles([\n            [46, 388, 150, 150],\n            [479, 704, 150, 150],\n            [852, 388, 150, 150],\n            [1374, 388, 150, 150],\n            [1758, 900, 150, 150],\n            [2126, 388, 150, 150]\n          ]);\n\n        } else if (map == 'Upload Image (2362x1143px)...') {\n          console.log('upload');\n          var hiddenElement = document.createElement('input');\n          hiddenElement.type = 'file';\n          hiddenElement.accept = 'image/*';\n          console.log(hiddenElement);\n          hiddenElement.dispatchEvent(new MouseEvent('click'));\n          hiddenElement.addEventListener('change', function(e){\n            var reader = new FileReader();\n            reader.onload = function() {\n              sim.loadBackground(this.result);\n              sim.clearObstacles();\n              sim.clearObstaclesLayer();\n            };\n            reader.readAsDataURL(e.target.files[0]);\n          });\n          var select = document.getElementById('map');\n          select.selectedIndex = select.options.length - 1;\n\n        } else {\n          sim.clearBackground();\n          sim.clearObstacles();\n          sim.clearObstaclesLayer();\n          setPos(2362/2, 1143/2, 0);\n        }\n      });\n      \n      \n      \n      \n            document.getElementById('robotConfiguratorOpen').addEventListener('click', function() {\n        document.getElementById('robotConfiguratorEditor').value = JSON.stringify(sim.robotSpecs, null, 2);\n        document.getElementById('robotConfigurator').classList.remove('closed');\n      });\n      document.getElementById('robotConfiguratorCancel').addEventListener('click', function() {\n        document.getElementById('robotConfigurator').classList.add('closed');\n      });\n      document.getElementById('robotConfiguratorApply').addEventListener('click', function() {\n        var robotSpecs = JSON.parse(document.getElementById('robotConfiguratorEditor').value);\n        sim.loadRobot(robotSpecs);\n        sim.drawAll();\n        document.getElementById('robotConfigurator').classList.add('closed');\n      });\n      document.getElementById('robotConfiguratordownload').addEventListener('click', function() {\n        var robotSpecs = document.getElementById('robotConfiguratorEditor').value\n        var hiddenElement = document.createElement('a');\n        hiddenElement.href = 'data:application/json;base64,' + btoa(robotSpecs);\n        hiddenElement.target = '_blank';\n        hiddenElement.download = 'robot_config.json';\n        hiddenElement.dispatchEvent(new MouseEvent('click'));\n      });\n      document.getElementById('robotConfiguratorupload').addEventListener('click', function() {\n        var hiddenElement = document.createElement('input');\n        hiddenElement.type = 'file';\n        hiddenElement.accept = 'application/json,.json,.js';\n        hiddenElement.dispatchEvent(new MouseEvent('click'));\n        hiddenElement.addEventListener('change', function(e){\n          var reader = new FileReader();\n          reader.onload = function() {\n            document.getElementById('robotConfiguratorEditor').value = this.result;\n          };\n          reader.readAsText(e.target.files[0]);\n        });\n      });\n      \n          function openWindow(url) {\n        var win = document.getElementById('window');\n        var content = win.getElementsByClassName('content')[0];\n        win.classList.remove('closed');\n        content.innerHTML = '';\n\n        fetch(url)\n          .then(function(response) {\n            response.text()\n              .then(function(text) {\n                content.innerHTML = text;\n              });\n          })\n      }\n\n\n\n      function rand() {\n          return Math.random();\n        }\n      \n\n      // Output something to the display window\n      function outf(text) {\n        var mypre = document.getElementById(\"output\");\n        \n        // Can we somehow stream data back to py context?\n        report_callback(text)\n        \n        // Try updating the chart\n        // TO DO - more chart trace updates\n        _text = text.split(\" \") \n        if (_text[0] == \"Ultrasonic:\") {\n          Plotly.extendTraces('plotlyDiv', {\n                y: [[parseFloat(_text[1])]]\n          }, [0])\n        }\n        mypre.innerHTML = mypre.innerHTML + text;\n        mypre.scrollTop = mypre.scrollHeight - mypre.clientHeight;\n      }\n\n\n      function builtinRead(x) {\n        \n        if (Sk.builtinFiles === undefined || Sk.builtinFiles[\"files\"][x] === undefined) {\n            throw \"File not found: '\" + x + \"'\";\n        }\n        return Sk.builtinFiles[\"files\"][x];\n      }\n\n      var interruptHandler = function (susp) {\n        if (Sk.hardInterrupt === true) {\n          delete Sk.hardInterrupt;\n          throw new Sk.builtin.ExternalError('aborted execution');\n        } else {\n          return null;\n        }\n      };\n\n      function runit() {\n        if (typeof Sk.hardInterrupt != 'undefined') {\n          delete Sk.hardInterrupt;\n        }\n        if (Sk.running == true) {\n          return;\n        }\n        Sk.running = true;\n\n        sim.reset();\n        sim.startAnimation();\n        var prog = '' //editor.getValue();\n        if (typeof element !== 'undefined') {\n            if (typeof element.prog !== 'undefined') {\n                    prog = element.prog;\n            }\n        }\n\n\n        Sk.builtins.sim = sim\n        \n        var mypre = document.getElementById(\"output\");\n        mypre.innerHTML = '';\n        Sk.pre = \"output\";\n        Sk.configure({output:outf, read:builtinRead});\n\n        var myPromise = Sk.misceval.asyncToPromise(\n          function() {\n            return Sk.importMainWithBody(\"<stdin>\", false, prog, true);\n          },\n          {\n            '*': interruptHandler\n          }\n        );\n        myPromise.then(\n          function(mod) {\n            sim.stopAnimation();\n            Sk.running = false;\n          },\n          function(err) {\n            Sk.running = false;\n            sim.stopAnimation();\n            var mypre = document.getElementById(\"output\");\n            mypre.innerHTML = mypre.innerHTML + '<span class=\"error\">' + err.toString() + '</span>';\n            mypre.scrollTop = mypre.scrollHeight - mypre.clientHeight;\n          }\n        );\n      }\n\ndocument.getElementById('runCode').addEventListener('click', runit);\n\nPlotly.newPlot('plotlyDiv', [{\n  y: [],\n  mode: 'lines',\n  line: {color: '#80CAF6'}\n}]);\n\nvar plotly_cnt = 0;\n\n'''",
    "persistent_id": "febea4e7-0b9e-493f-ac49-26a212d8da7a"
   },
   "outputs": [],
   "source": [
    "with open(get_file_path('templates/studio.js'), 'r') as f:\n",
    "    script_built = f.read()"
   ]
  },
  {
   "cell_type": "code",
   "execution_count": null,
   "metadata": {
    "execution_event_id": "8ca9373c-b7be-4ebf-84f1-611d4f5c1c6d",
    "last_executed_text": "from IPython.core.magic import register_cell_magic\n\n@register_cell_magic\ndef sim_magic(line, cell):\n    \"Send code to simulator.\"\n    eval(line).set_element(\"prog\", cell)",
    "persistent_id": "eefb285c-b41b-4971-9fc0-84b21cdd1930",
    "tags": [
     "active-ipynb"
    ]
   },
   "outputs": [],
   "source": [
    "from IPython.core.magic import register_cell_magic\n",
    "\n",
    "@register_cell_magic\n",
    "def sim_magic(line, cell):\n",
    "    \"Send code to simulator.\"\n",
    "    eval(line).set_element(\"prog\", cell)"
   ]
  },
  {
   "cell_type": "code",
   "execution_count": null,
   "metadata": {
    "execution_event_id": "9091bdb4-00cd-4fc8-a8c6-f96ff267bd1c",
    "last_executed_text": "prog='''\n# Demo of a simple proportional line follower using two sensors\n# It's deliberately flawed and will exit with errors in some circumstances;\n# try fixing it!\n\nfrom ev3dev2.motor import MoveSteering, OUTPUT_B, OUTPUT_C\nfrom ev3dev2.sensor import INPUT_1, INPUT_2, INPUT_3, INPUT_4\nfrom ev3dev2.sensor.lego import ColorSensor, GyroSensor, UltrasonicSensor\n\nsteering_drive = MoveSteering(OUTPUT_B, OUTPUT_C)\n\ncolorLeft = ColorSensor(INPUT_2)\ncolorRight = ColorSensor(INPUT_3)\ngyro = GyroSensor(INPUT_4)\nultrasonic = UltrasonicSensor(INPUT_1)\n\nGAIN = 0.5\n\nwhile True:\n    print('Gyro: ' + str(gyro.angle_and_rate))\n    print('Ultrasonic: ' + str(ultrasonic.distance_centimeters))\n    print('Color: ' + str(colorRight.color))\n    error = colorLeft.reflected_light_intensity - colorRight.reflected_light_intensity\n    correction = error * GAIN\n    steering_drive.on(correction, 20)\n        \n'''",
    "persistent_id": "e2f3757d-50bb-4492-9f98-16426f3837c7"
   },
   "outputs": [],
   "source": [
    "prog='''\n",
    "# Demo of a simple proportional line follower using two sensors\n",
    "# It's deliberately flawed and will exit with errors in some circumstances;\n",
    "# try fixing it!\n",
    "\n",
    "from ev3dev2.motor import MoveSteering, OUTPUT_B, OUTPUT_C\n",
    "from ev3dev2.sensor import INPUT_1, INPUT_2, INPUT_3, INPUT_4\n",
    "from ev3dev2.sensor.lego import ColorSensor, GyroSensor, UltrasonicSensor\n",
    "\n",
    "steering_drive = MoveSteering(OUTPUT_B, OUTPUT_C)\n",
    "\n",
    "colorLeft = ColorSensor(INPUT_2)\n",
    "colorRight = ColorSensor(INPUT_3)\n",
    "gyro = GyroSensor(INPUT_4)\n",
    "ultrasonic = UltrasonicSensor(INPUT_1)\n",
    "\n",
    "GAIN = 0.5\n",
    "\n",
    "while True:\n",
    "    print('Gyro: ' + str(gyro.angle_and_rate))\n",
    "    print('Ultrasonic: ' + str(ultrasonic.distance_centimeters))\n",
    "    print('Color: ' + str(colorRight.color))\n",
    "    error = colorLeft.reflected_light_intensity - colorRight.reflected_light_intensity\n",
    "    correction = error * GAIN\n",
    "    steering_drive.on(correction, 20)\n",
    "        \n",
    "'''"
   ]
  },
  {
   "cell_type": "code",
   "execution_count": null,
   "metadata": {
    "lines_to_next_cell": 2,
    "persistent_id": "08545241-02b4-4fc6-9015-233463d6be44"
   },
   "outputs": [],
   "source": []
  },
  {
   "cell_type": "code",
   "execution_count": null,
   "metadata": {
    "persistent_id": "82a10062-b362-4595-b88f-da4d16342526",
    "tags": [
     "active-ipynb"
    ]
   },
   "outputs": [],
   "source": [
    "#myprint = Print_Repr()"
   ]
  },
  {
   "cell_type": "code",
   "execution_count": null,
   "metadata": {
    "execution_event_id": "b3c3671c-7611-487f-b26f-c5be088143ad",
    "last_executed_text": "class Ev3DevWidget(jp_proxy_widget.JSProxyWidget):\n    \"\"\"Class to define an Ev3DevSim IPywidget.\"\"\"\n    def __init__(self, *pargs, **kwargs):\n        super(Ev3DevWidget, self).__init__(*pargs, **kwargs)\n        e = self.element\n\n        # Call some standard jQuery method on the widget element:\n        e.empty()\n        # This is for the controls as well as the simulator\n        e.width(\"1000\") # 1181px 2362\n        e.height(\"1000\") # 551px 1143\n        # self.require_js(\"ace\", \"ace-src-min/ace.js\")\n        self.load_js_files([\"js/skulpt.min.js\", \"js/skulpt-stdlib.js\",\n                            \"js/EV3devSim.js\", \"js/plotly.min.js\"])\n        self.load_css(\"css/main.css\")\n        e.html(html)\n        #self.require_js(\"saveAs\", \"js/FileSaver.js\")\n\n        self.js_init(\"ready();\", ready=self.ready)\n        \n        self.results_log = []\n        self.count = 0\n    \n    def print_repr(self, obj):\n        # TO DO\n        # - log all sensor channels\n        # - add timestamp\n        if obj.startswith('Ultrasonic') or obj.startswith('Color'):\n            typ = obj.split(': ')[0]\n            val = float(obj.split(': ')[1])\n            self.results_log.append({'index': datetime.utcnow(), typ: val})\n            self.count += 1\n\n    def ready(self):\n        \"Initialise the simulator.\"\n        #self.js_init(script_built, report_callback=print_repr)\n        self.js_init(script_built, report_callback=self.print_repr)",
    "persistent_id": "faecb100-d28c-442b-b204-0906c1dc105e"
   },
   "outputs": [],
   "source": [
    "class Ev3DevWidget(jp_proxy_widget.JSProxyWidget):\n",
    "    \"\"\"Class to define an Ev3DevSim IPywidget.\"\"\"\n",
    "    def __init__(self, *pargs, **kwargs):\n",
    "        super(Ev3DevWidget, self).__init__(*pargs, **kwargs)\n",
    "        e = self.element\n",
    "\n",
    "        # Call some standard jQuery method on the widget element:\n",
    "        e.empty()\n",
    "        # This is for the controls as well as the simulator\n",
    "        e.width(\"1000\") # 1181px 2362\n",
    "        e.height(\"1000\") # 551px 1143\n",
    "        # self.require_js(\"ace\", \"ace-src-min/ace.js\")\n",
    "        self.load_js_files([get_file_path(\"js/skulpt.min.js\"), get_file_path(\"js/skulpt-stdlib.js\"),\n",
    "                            get_file_path(\"js/EV3devSim.js\"), get_file_path(\"js/plotly.min.js\")])\n",
    "        self.load_css(get_file_path(\"css/main.css\"))\n",
    "        e.html(html)\n",
    "        #self.require_js(\"saveAs\", \"js/FileSaver.js\")\n",
    "\n",
    "        self.js_init(\"ready();\", ready=self.ready)\n",
    "        \n",
    "        self.results_log = []\n",
    "        self.count = 0\n",
    "    \n",
    "    \n",
    "    def clear_datalog(self):\n",
    "        \"\"\"Clear the datalog in the simulator ipywidget object.\"\"\"\n",
    "        self.results_log = []\n",
    "        self.count = 0\n",
    "        \n",
    "    def print_repr(self, obj):\n",
    "        \"\"\"Callback function when anything is written to the simulator print window.\"\"\"\n",
    "        # TO DO\n",
    "        # - log all sensor channels\n",
    "        # - add timestamp\n",
    "        if obj.startswith('Ultrasonic') or obj.startswith('Colour'):\n",
    "            typ = obj.split(': ')[0]\n",
    "            val = float(obj.split(': ')[1])\n",
    "            self.results_log.append({'index': datetime.utcnow(), typ: val})\n",
    "            self.count += 1\n",
    "\n",
    "    def ready(self):\n",
    "        \"Initialise the simulator.\"\n",
    "        # The report_callback function is called from the simulator code\n",
    "        # whenever something is written to the output window.\n",
    "        # At the moment, we use this as a basis for data logging.\n",
    "        #self.js_init(script_built, report_callback=print_repr)\n",
    "        self.js_init(script_built, report_callback=self.print_repr)"
   ]
  },
  {
   "cell_type": "code",
   "execution_count": null,
   "metadata": {
    "execution_event_id": "eb4ffdfb-af16-4c0c-8309-f159a7303734",
    "last_executed_text": "class SimInformation:\n    data = \"unknown: apparently the callback hasn't been called yet.\"\n    \ndef sim_callback(data):\n    \"\"\"Set SimInformation class data value.\"\"\"\n    SimInformation.data = data\n\ndef sim_get_data(sim_widget, sim_var=\"sim.robotStates\"):\n    \"\"\"Run async data request on simulator widget.\"\"\"\n    sim_widget.get_value_async(sim_callback, sim_var)\n\ndef sim_report(retval=False):\n    \"\"\"Get simulator data value.\"\"\"\n    print(\"Python thinks the sim data is: \" + repr(SimInformation.data))\n    if retval:\n        return SimInformation.data",
    "persistent_id": "1177dc49-9ea2-471b-86ce-17980b192d1f"
   },
   "outputs": [],
   "source": [
    "class SimInformation:\n",
    "    data = \"unknown: apparently the callback hasn't been called yet.\"\n",
    "    \n",
    "def sim_callback(data):\n",
    "    \"\"\"Set SimInformation class data value.\"\"\"\n",
    "    SimInformation.data = data\n",
    "\n",
    "def sim_get_data(sim_widget, sim_var=\"sim.robotStates\"):\n",
    "    \"\"\"Run async data request on simulator widget.\"\"\"\n",
    "    sim_widget.get_value_async(sim_callback, sim_var)\n",
    "\n",
    "def sim_report(retval=False):\n",
    "    \"\"\"Get simulator data value.\"\"\"\n",
    "    print(\"Python thinks the sim data is: \" + repr(SimInformation.data))\n",
    "    if retval:\n",
    "        return SimInformation.data"
   ]
  },
  {
   "cell_type": "code",
   "execution_count": null,
   "metadata": {
    "lines_to_next_cell": 2,
    "tags": [
     "active-ipynb"
    ]
   },
   "outputs": [],
   "source": [
    "import asyncio\n",
    "import nest_asyncio\n",
    "nest_asyncio.apply()"
   ]
  },
  {
   "cell_type": "code",
   "execution_count": null,
   "metadata": {
    "execution_event_id": "b1903c85-d8ad-4058-8836-20220a70ddc0",
    "last_executed_text": "testEmbed = Ev3DevWidget()",
    "persistent_id": "25fd5213-1d28-4253-934f-0eeec72d8fff",
    "tags": [
     "active-ipynb"
    ]
   },
   "outputs": [],
   "source": [
    "testEmbed = Ev3DevWidget()"
   ]
  },
  {
   "cell_type": "code",
   "execution_count": null,
   "metadata": {
    "persistent_id": "306b2cda-1a65-4913-afb2-b0c2e796f62e",
    "tags": [
     "active-ipynb"
    ]
   },
   "outputs": [],
   "source": [
    "sim_report()"
   ]
  },
  {
   "cell_type": "code",
   "execution_count": null,
   "metadata": {
    "persistent_id": "60305c87-4f11-4e00-82e3-32ac6dae1c12",
    "tags": [
     "active-ipynb"
    ]
   },
   "outputs": [],
   "source": [
    "asyncio.run(sim_get_data(testEmbed))\n",
    "sim_report()\n",
    "\n",
    "# sim_report(testEmbed)"
   ]
  },
  {
   "cell_type": "code",
   "execution_count": null,
   "metadata": {
    "persistent_id": "2e8932d6-2d9b-453c-b5a5-55c869d8e60f",
    "tags": [
     "active-ipynb"
    ]
   },
   "outputs": [],
   "source": [
    "%%sim_magic testEmbed\n",
    "print(\"lsdhfkjfsadhfkjh\")"
   ]
  },
  {
   "cell_type": "code",
   "execution_count": null,
   "metadata": {
    "execution_event_id": "4bd970ce-3c98-499d-9d4e-95f45dbd171f",
    "last_executed_text": "\n#prog='print(\"hello world\")'\n#testEmbed.set_element(\"prog\", \"print('hello')\")\ntestEmbed.set_element(\"prog\", prog)\ndisplay(testEmbed)",
    "persistent_id": "6fafbed0-383c-4bff-ba1b-b455b3537870",
    "tags": [
     "active-ipynb"
    ]
   },
   "outputs": [],
   "source": [
    "\n",
    "#prog='print(\"hello world\")'\n",
    "#testEmbed.set_element(\"prog\", \"print('hello')\")\n",
    "testEmbed.set_element(\"prog\", prog)\n",
    "display(testEmbed)"
   ]
  },
  {
   "cell_type": "code",
   "execution_count": null,
   "metadata": {
    "execution_event_id": "5efa8842-35ce-42fd-9f25-41716a41ecc1",
    "last_executed_text": "display(testEmbed)",
    "persistent_id": "6d5e0a73-66a6-46cb-907c-dd14ff74acef",
    "tags": [
     "active-ipynb"
    ]
   },
   "outputs": [],
   "source": [
    "display(testEmbed)"
   ]
  },
  {
   "cell_type": "code",
   "execution_count": null,
   "metadata": {
    "persistent_id": "a9a212dd-0529-4e3d-b7ee-44cfa9314060",
    "tags": [
     "active-ipynb"
    ]
   },
   "outputs": [],
   "source": [
    "import holoviews as hv\n",
    "import numpy as np\n",
    "\n",
    "from holoviews.streams import Pipe, Buffer\n",
    "\n",
    "hv.extension('bokeh')\n",
    "\n",
    "dfbuffer = Buffer(np.zeros((0, 2)), length=20)"
   ]
  },
  {
   "cell_type": "code",
   "execution_count": null,
   "metadata": {
    "persistent_id": "ea841feb-ab9e-4e5f-b50b-71f064fbce39",
    "tags": [
     "active-ipynb"
    ]
   },
   "outputs": [],
   "source": [
    "dfbuffer"
   ]
  },
  {
   "cell_type": "code",
   "execution_count": null,
   "metadata": {
    "persistent_id": "1e68f3c9-c84d-4d4f-87bb-a5a5bf0e44d5",
    "tags": [
     "active-ipynb"
    ]
   },
   "outputs": [],
   "source": [
    "#from holoviews.streams import Pipe, Buffer\n",
    "\n",
    "#hv.extension('bokeh')\n",
    "\n",
    "#dfbuffer = Buffer(np.zeros((0, 2)), length=20)\n",
    "\n",
    "z = []\n",
    "zz = []\n",
    "count=0\n",
    "def print_repr(obj):\n",
    "    \"\"\"Display object\"\"\"\n",
    "    #global dfbuffer\n",
    "    global count\n",
    "    if obj.startswith('Ultrasonic'):\n",
    "        typ = obj.split(': ')[0]\n",
    "        val = float(obj.split(': ')[1])\n",
    "        z.append((typ, val))\n",
    "        #dfbuffer.send(np.array([[count, val]]))\n",
    "        count += 1\n",
    "            #zz.append(dfbuffer)\n",
    "            #zz.append(np.array([[count, val]]))\n",
    "            #zz.append((typ, val))\n",
    "            #dfbuffer.send(np.array([[count, val]]))\n",
    "            #count += 1"
   ]
  },
  {
   "cell_type": "code",
   "execution_count": null,
   "metadata": {
    "persistent_id": "592123fb-82f7-4542-a4e2-6058a053e368",
    "tags": [
     "active-ipynb"
    ]
   },
   "outputs": [],
   "source": [
    "hv.DynamicMap(hv.Curve, streams=[dfbuffer]).opts(padding=0.1, width=600, color = 'green',)"
   ]
  },
  {
   "cell_type": "code",
   "execution_count": null,
   "metadata": {
    "persistent_id": "b65585b0-1179-4a50-9dfe-e2e99a00845f",
    "tags": [
     "active-ipynb"
    ]
   },
   "outputs": [],
   "source": [
    "# Evaluate the Window location in the Javascript context and call back to Python\n",
    "testEmbed.get_value_async(sim_callback, \"sim.robotStates\")"
   ]
  },
  {
   "cell_type": "code",
   "execution_count": null,
   "metadata": {
    "persistent_id": "bf8ab8f8-b4ae-499f-9783-25ce2eb427e2",
    "tags": [
     "active-ipynb"
    ]
   },
   "outputs": [],
   "source": [
    "print(\"Python thinks the sim data is: \" + repr(SimInformation.data))"
   ]
  },
  {
   "cell_type": "code",
   "execution_count": null,
   "metadata": {
    "persistent_id": "04e939b7-f037-40a6-b82c-c8b35610cb4a",
    "tags": [
     "active-ipynb"
    ]
   },
   "outputs": [],
   "source": [
    "testEmbed.get_value_async(sim_callback, \"sim\")\n"
   ]
  },
  {
   "cell_type": "code",
   "execution_count": null,
   "metadata": {
    "lines_to_next_cell": 0,
    "persistent_id": "c75d2eb2-484c-479b-974f-0d55fa374c01",
    "tags": [
     "active-ipynb"
    ]
   },
   "outputs": [],
   "source": [
    "print(\"Python thinks the prog is: \" + repr(SimInformation.data))"
   ]
  },
  {
   "cell_type": "code",
   "execution_count": null,
   "metadata": {
    "persistent_id": "b3aa451f-9119-4f09-80cb-101cddef4f29"
   },
   "outputs": [],
   "source": [
    "\n"
   ]
  }
 ],
 "metadata": {
  "celltoolbar": "Tags",
  "jupytext": {
   "formats": "ipynb,py:light"
  },
  "kernelspec": {
   "display_name": "Python 3",
   "language": "python",
   "name": "python3"
  },
  "language_info": {
   "codemirror_mode": {
    "name": "ipython",
    "version": 3
   },
   "file_extension": ".py",
   "mimetype": "text/x-python",
   "name": "python",
   "nbconvert_exporter": "python",
   "pygments_lexer": "ipython3",
   "version": "3.7.6"
  }
 },
 "nbformat": 4,
 "nbformat_minor": 2
}
