{
 "cells": [
  {
   "cell_type": "markdown",
   "metadata": {},
   "source": [
    "# Demo of Ev3DevSim in a Jupyter Notebook\n",
    "\n",
    "\n",
    "Experiments trying to get [`ev3devsim`](https://www.aposteriori.com.sg/Ev3devSim/index.html) [[code](https://github.com/QuirkyCort/ev3dev-sim)] running in a Jupyter notebook as  [`jp_proxy_widget`](https://github.com/AaronWatters/jp_proxy_widget/blob/master/notebooks/Tutorial.ipynb) proxied `ipywidget`."
   ]
  },
  {
   "cell_type": "code",
   "execution_count": 1,
   "metadata": {},
   "outputs": [
    {
     "data": {
      "text/html": [
       "<style>#notebook-container { width:50% !important; float:left !important;}</style>"
      ],
      "text/plain": [
       "<IPython.core.display.HTML object>"
      ]
     },
     "metadata": {},
     "output_type": "display_data"
    },
    {
     "data": {
      "application/vnd.jupyter.widget-view+json": {
       "model_id": "10e7dd78ee01466eae7a128308d96260",
       "version_major": 2,
       "version_minor": 0
      },
      "text/plain": [
       "Ev3DevWidget(status='Not yet rendered')"
      ]
     },
     "metadata": {},
     "output_type": "display_data"
    }
   ],
   "source": [
    "# Run this cell to set up the robot simulator environment\n",
    "\n",
    "#Reset the notebook style\n",
    "from IPython.core.display import display, HTML\n",
    "\n",
    "display(HTML(\"<style>#notebook-container { width:50% !important; float:left !important;}</style>\"))\n",
    "\n",
    "\n",
    "#Launch the simulator\n",
    "from nbev3devsim import ev3devsim_nb as eds\n",
    "%load_ext nbev3devsim\n",
    "\n",
    "testSim = eds.Ev3DevWidget()\n",
    "display(testSim)\n",
    "testSim.element.dialog();\n"
   ]
  },
  {
   "cell_type": "markdown",
   "metadata": {},
   "source": [
    "__Once the simulator is displayed, drag the corner to make the simulator window larger.__"
   ]
  },
  {
   "cell_type": "markdown",
   "metadata": {},
   "source": [
    "The simulator is loaded as an `ipywidget` into the notebook and then redered as a JQuery dialog widget.\n",
    "\n",
    "This has the advantage that the simulator can be resized and moved around the notebook display area. The notebook itself is restyled in a two column display format with the notebook in the left hand column. This provides the area on the right hand side for working in the simulator.\n",
    "\n",
    "The workflow for using the simulator is as follows:\n",
    "\n",
    "- code is entered into a block magic code cell and sent (\"downloaded\") to the simulator;\n",
    "- the code is then `Run` in the simulator by pressi g the simulator *Run* button;\n",
    "- charts in the simulator stream data from the sensors in real time as the simulator runs the program (requires sensor data to be sens to simulator output wndow in a particular format); (at the moment, only the ultrasound sensor value is displayed;)\n",
    "- sensor data can be loaded into the Python context from the simulator and explored via Python.\n",
    "\n",
    "At the moment the robot is configured by a simulator dialogue but this will move to configuration from a notebook code cell.\n",
    "\n",
    "There are lots of things to do  which can be found here: [`nbev3devsim/issues`](https://github.com/innovationOUtside/nbev3devsim/issues)."
   ]
  },
  {
   "cell_type": "markdown",
   "metadata": {},
   "source": [
    "### Example programme\n",
    " The following programme demonstrates some elements of the simulator, including inline charting.\n",
    " \n",
    "In the simulator window:\n",
    "\n",
    "- select the *Grey bands* background from the drop down list;\n",
    "- check the *Show chart* button;\n",
    "- check the *Colour* checkbox;\n",
    "- check the *Pen Down* checkbox.\n",
    " \n",
    "Click in the following code cell to select it and then run the cell. The magic \"downloads\" the programme to the simulator.\n",
    "\n",
    "Click on the *Run* button in the simulator to run the program. Click on the *Move* button to move the robot to the specified co-ordinates. You can also click on and drag the center of the simulated robot to move it."
   ]
  },
  {
   "cell_type": "code",
   "execution_count": 2,
   "metadata": {},
   "outputs": [],
   "source": [
    "%%sim_magic -s testSim\n",
    "\n",
    "import playsound\n",
    "\n",
    "# Sensor_sim\n",
    "from ev3dev2.motor import MoveTank, SpeedPercent, OUTPUT_B, OUTPUT_C\n",
    "from ev3dev2.sensor import INPUT_1, INPUT_2, INPUT_3, INPUT_4\n",
    "from ev3dev2.sensor.lego import ColorSensor\n",
    "\n",
    "\n",
    "tank_drive = MoveTank(OUTPUT_B, OUTPUT_C)\n",
    "colorLeft = ColorSensor(INPUT_2)\n",
    "\n",
    "tank_drive.on(SpeedPercent(50), SpeedPercent(50))\n",
    "\n",
    "while colorLeft.reflected_light_intensity > 0:\n",
    "    print('Colour: ' + str(colorLeft.reflected_light_intensity ))\n",
    "    \n",
    "playsound.say(\"All done.\")"
   ]
  },
  {
   "cell_type": "markdown",
   "metadata": {},
   "source": [
    "We can preview the simulator state via a Python environment variable:"
   ]
  },
  {
   "cell_type": "code",
   "execution_count": null,
   "metadata": {},
   "outputs": [],
   "source": [
    "eds.sim_get_data(testSim)"
   ]
  },
  {
   "cell_type": "code",
   "execution_count": 34,
   "metadata": {
    "scrolled": true
   },
   "outputs": [
    {
     "name": "stdout",
     "output_type": "stream",
     "text": [
      "Python thinks the sim data is: {'x': 1981.1672205330349, 'y': 638, 'angle': 0, 'penDown': False, 'leftWheel': {'polarity': 'normal', 'pos': 3239.6, 'time_sp': 0, 'position_sp': 0, 'speed_sp': 525, 'speed': 525, 'command': 'run-forever', 'state': 'running'}, 'rightWheel': {'polarity': 'normal', 'pos': 3239.6, 'time_sp': 0, 'position_sp': 0, 'speed_sp': 525, 'speed': 525, 'command': 'run-forever', 'state': 'running'}, 'sensor1': [0, 0, 0], 'sensor2': [0, 0, 0], 'gyro': [0, 0], 'ultrasonic': 378}\n"
     ]
    },
    {
     "data": {
      "text/plain": [
       "{'x': 1981.1672205330349,\n",
       " 'y': 638,\n",
       " 'angle': 0,\n",
       " 'penDown': False,\n",
       " 'leftWheel': {'polarity': 'normal',\n",
       "  'pos': 3239.6,\n",
       "  'time_sp': 0,\n",
       "  'position_sp': 0,\n",
       "  'speed_sp': 525,\n",
       "  'speed': 525,\n",
       "  'command': 'run-forever',\n",
       "  'state': 'running'},\n",
       " 'rightWheel': {'polarity': 'normal',\n",
       "  'pos': 3239.6,\n",
       "  'time_sp': 0,\n",
       "  'position_sp': 0,\n",
       "  'speed_sp': 525,\n",
       "  'speed': 525,\n",
       "  'command': 'run-forever',\n",
       "  'state': 'running'},\n",
       " 'sensor1': [0, 0, 0],\n",
       " 'sensor2': [0, 0, 0],\n",
       " 'gyro': [0, 0],\n",
       " 'ultrasonic': 378}"
      ]
     },
     "execution_count": 34,
     "metadata": {},
     "output_type": "execute_result"
    }
   ],
   "source": [
    "eds.sim_report(testSim)"
   ]
  },
  {
   "cell_type": "markdown",
   "metadata": {},
   "source": [
    "We can also get hold of data logged in the simulator as a Python list in the notebook's Python enviironment:"
   ]
  },
  {
   "cell_type": "code",
   "execution_count": 23,
   "metadata": {},
   "outputs": [
    {
     "data": {
      "text/plain": [
       "[{'index': datetime.datetime(2020, 5, 4, 15, 30, 3, 872921), 'Colour': 255.0},\n",
       " {'index': datetime.datetime(2020, 5, 4, 15, 30, 3, 947285), 'Colour': 255.0},\n",
       " {'index': datetime.datetime(2020, 5, 4, 15, 30, 4, 1909), 'Colour': 255.0},\n",
       " {'index': datetime.datetime(2020, 5, 4, 15, 30, 4, 54476), 'Colour': 255.0},\n",
       " {'index': datetime.datetime(2020, 5, 4, 15, 30, 4, 114354), 'Colour': 255.0},\n",
       " {'index': datetime.datetime(2020, 5, 4, 15, 30, 4, 245625), 'Colour': 255.0},\n",
       " {'index': datetime.datetime(2020, 5, 4, 15, 30, 4, 318795), 'Colour': 255.0},\n",
       " {'index': datetime.datetime(2020, 5, 4, 15, 30, 4, 372567), 'Colour': 255.0},\n",
       " {'index': datetime.datetime(2020, 5, 4, 15, 30, 4, 422396), 'Colour': 255.0},\n",
       " {'index': datetime.datetime(2020, 5, 4, 15, 30, 4, 472611), 'Colour': 255.0},\n",
       " {'index': datetime.datetime(2020, 5, 4, 15, 30, 4, 522203), 'Colour': 255.0},\n",
       " {'index': datetime.datetime(2020, 5, 4, 15, 30, 4, 572160), 'Colour': 255.0},\n",
       " {'index': datetime.datetime(2020, 5, 4, 15, 30, 4, 624654), 'Colour': 255.0},\n",
       " {'index': datetime.datetime(2020, 5, 4, 15, 30, 4, 675224), 'Colour': 255.0},\n",
       " {'index': datetime.datetime(2020, 5, 4, 15, 30, 4, 731672), 'Colour': 255.0},\n",
       " {'index': datetime.datetime(2020, 5, 4, 15, 30, 4, 779129), 'Colour': 255.0},\n",
       " {'index': datetime.datetime(2020, 5, 4, 15, 30, 4, 827780), 'Colour': 255.0},\n",
       " {'index': datetime.datetime(2020, 5, 4, 15, 30, 4, 880198), 'Colour': 255.0},\n",
       " {'index': datetime.datetime(2020, 5, 4, 15, 30, 4, 930183), 'Colour': 255.0},\n",
       " {'index': datetime.datetime(2020, 5, 4, 15, 30, 4, 982890), 'Colour': 255.0},\n",
       " {'index': datetime.datetime(2020, 5, 4, 15, 30, 5, 29268), 'Colour': 255.0},\n",
       " {'index': datetime.datetime(2020, 5, 4, 15, 30, 5, 77111), 'Colour': 255.0},\n",
       " {'index': datetime.datetime(2020, 5, 4, 15, 30, 5, 129243), 'Colour': 255.0},\n",
       " {'index': datetime.datetime(2020, 5, 4, 15, 30, 5, 182592), 'Colour': 255.0},\n",
       " {'index': datetime.datetime(2020, 5, 4, 15, 30, 5, 234580), 'Colour': 255.0},\n",
       " {'index': datetime.datetime(2020, 5, 4, 15, 30, 5, 305711), 'Colour': 255.0},\n",
       " {'index': datetime.datetime(2020, 5, 4, 15, 30, 5, 357305), 'Colour': 255.0},\n",
       " {'index': datetime.datetime(2020, 5, 4, 15, 30, 5, 406979), 'Colour': 255.0},\n",
       " {'index': datetime.datetime(2020, 5, 4, 15, 30, 5, 457835), 'Colour': 255.0},\n",
       " {'index': datetime.datetime(2020, 5, 4, 15, 30, 5, 506167), 'Colour': 255.0},\n",
       " {'index': datetime.datetime(2020, 5, 4, 15, 30, 5, 557760), 'Colour': 255.0},\n",
       " {'index': datetime.datetime(2020, 5, 4, 15, 30, 5, 607921), 'Colour': 255.0},\n",
       " {'index': datetime.datetime(2020, 5, 4, 15, 30, 5, 659229), 'Colour': 255.0},\n",
       " {'index': datetime.datetime(2020, 5, 4, 15, 30, 5, 710783), 'Colour': 255.0},\n",
       " {'index': datetime.datetime(2020, 5, 4, 15, 30, 5, 761094), 'Colour': 255.0},\n",
       " {'index': datetime.datetime(2020, 5, 4, 15, 30, 5, 813177), 'Colour': 255.0},\n",
       " {'index': datetime.datetime(2020, 5, 4, 15, 30, 5, 866921), 'Colour': 255.0},\n",
       " {'index': datetime.datetime(2020, 5, 4, 15, 30, 5, 913895), 'Colour': 255.0},\n",
       " {'index': datetime.datetime(2020, 5, 4, 15, 30, 5, 967181), 'Colour': 255.0},\n",
       " {'index': datetime.datetime(2020, 5, 4, 15, 30, 6, 22106), 'Colour': 255.0},\n",
       " {'index': datetime.datetime(2020, 5, 4, 15, 30, 6, 78970), 'Colour': 255.0},\n",
       " {'index': datetime.datetime(2020, 5, 4, 15, 30, 6, 134657), 'Colour': 255.0},\n",
       " {'index': datetime.datetime(2020, 5, 4, 15, 30, 6, 191511), 'Colour': 255.0},\n",
       " {'index': datetime.datetime(2020, 5, 4, 15, 30, 6, 245035), 'Colour': 255.0},\n",
       " {'index': datetime.datetime(2020, 5, 4, 15, 30, 6, 329062), 'Colour': 255.0},\n",
       " {'index': datetime.datetime(2020, 5, 4, 15, 30, 6, 392470), 'Colour': 255.0},\n",
       " {'index': datetime.datetime(2020, 5, 4, 15, 30, 6, 452251), 'Colour': 222.0},\n",
       " {'index': datetime.datetime(2020, 5, 4, 15, 30, 6, 517439), 'Colour': 220.0},\n",
       " {'index': datetime.datetime(2020, 5, 4, 15, 30, 6, 590905), 'Colour': 220.0},\n",
       " {'index': datetime.datetime(2020, 5, 4, 15, 30, 6, 660117), 'Colour': 220.0},\n",
       " {'index': datetime.datetime(2020, 5, 4, 15, 30, 6, 723623), 'Colour': 220.0},\n",
       " {'index': datetime.datetime(2020, 5, 4, 15, 30, 6, 780222), 'Colour': 220.0},\n",
       " {'index': datetime.datetime(2020, 5, 4, 15, 30, 6, 842745), 'Colour': 220.0},\n",
       " {'index': datetime.datetime(2020, 5, 4, 15, 30, 6, 917747), 'Colour': 220.0},\n",
       " {'index': datetime.datetime(2020, 5, 4, 15, 30, 6, 985558), 'Colour': 220.0},\n",
       " {'index': datetime.datetime(2020, 5, 4, 15, 30, 7, 46387), 'Colour': 220.0},\n",
       " {'index': datetime.datetime(2020, 5, 4, 15, 30, 7, 103283), 'Colour': 220.0},\n",
       " {'index': datetime.datetime(2020, 5, 4, 15, 30, 7, 165204), 'Colour': 220.0},\n",
       " {'index': datetime.datetime(2020, 5, 4, 15, 30, 7, 226065), 'Colour': 220.0},\n",
       " {'index': datetime.datetime(2020, 5, 4, 15, 30, 7, 322782), 'Colour': 220.0},\n",
       " {'index': datetime.datetime(2020, 5, 4, 15, 30, 7, 391606), 'Colour': 220.0},\n",
       " {'index': datetime.datetime(2020, 5, 4, 15, 30, 7, 454751), 'Colour': 220.0},\n",
       " {'index': datetime.datetime(2020, 5, 4, 15, 30, 7, 516029), 'Colour': 220.0},\n",
       " {'index': datetime.datetime(2020, 5, 4, 15, 30, 7, 580736), 'Colour': 220.0},\n",
       " {'index': datetime.datetime(2020, 5, 4, 15, 30, 7, 638055), 'Colour': 220.0},\n",
       " {'index': datetime.datetime(2020, 5, 4, 15, 30, 7, 703774), 'Colour': 220.0},\n",
       " {'index': datetime.datetime(2020, 5, 4, 15, 30, 7, 758100), 'Colour': 220.0},\n",
       " {'index': datetime.datetime(2020, 5, 4, 15, 30, 7, 809574), 'Colour': 225.0},\n",
       " {'index': datetime.datetime(2020, 5, 4, 15, 30, 7, 862824), 'Colour': 245.0},\n",
       " {'index': datetime.datetime(2020, 5, 4, 15, 30, 7, 913311), 'Colour': 255.0},\n",
       " {'index': datetime.datetime(2020, 5, 4, 15, 30, 7, 963110), 'Colour': 255.0},\n",
       " {'index': datetime.datetime(2020, 5, 4, 15, 30, 8, 16061), 'Colour': 255.0},\n",
       " {'index': datetime.datetime(2020, 5, 4, 15, 30, 8, 67297), 'Colour': 255.0},\n",
       " {'index': datetime.datetime(2020, 5, 4, 15, 30, 8, 120704), 'Colour': 255.0},\n",
       " {'index': datetime.datetime(2020, 5, 4, 15, 30, 8, 172747), 'Colour': 255.0},\n",
       " {'index': datetime.datetime(2020, 5, 4, 15, 30, 8, 225433), 'Colour': 255.0},\n",
       " {'index': datetime.datetime(2020, 5, 4, 15, 30, 8, 296551), 'Colour': 255.0},\n",
       " {'index': datetime.datetime(2020, 5, 4, 15, 30, 8, 349697), 'Colour': 255.0},\n",
       " {'index': datetime.datetime(2020, 5, 4, 15, 30, 8, 405418), 'Colour': 255.0},\n",
       " {'index': datetime.datetime(2020, 5, 4, 15, 30, 8, 455861), 'Colour': 255.0},\n",
       " {'index': datetime.datetime(2020, 5, 4, 15, 30, 8, 510182), 'Colour': 255.0},\n",
       " {'index': datetime.datetime(2020, 5, 4, 15, 30, 8, 565746), 'Colour': 255.0},\n",
       " {'index': datetime.datetime(2020, 5, 4, 15, 30, 8, 620683), 'Colour': 255.0},\n",
       " {'index': datetime.datetime(2020, 5, 4, 15, 30, 8, 677202), 'Colour': 255.0},\n",
       " {'index': datetime.datetime(2020, 5, 4, 15, 30, 8, 733113), 'Colour': 255.0},\n",
       " {'index': datetime.datetime(2020, 5, 4, 15, 30, 8, 789230), 'Colour': 255.0},\n",
       " {'index': datetime.datetime(2020, 5, 4, 15, 30, 8, 846311), 'Colour': 255.0},\n",
       " {'index': datetime.datetime(2020, 5, 4, 15, 30, 8, 900010), 'Colour': 255.0},\n",
       " {'index': datetime.datetime(2020, 5, 4, 15, 30, 8, 957003), 'Colour': 231.0},\n",
       " {'index': datetime.datetime(2020, 5, 4, 15, 30, 9, 11340), 'Colour': 211.0},\n",
       " {'index': datetime.datetime(2020, 5, 4, 15, 30, 9, 62085), 'Colour': 211.0},\n",
       " {'index': datetime.datetime(2020, 5, 4, 15, 30, 9, 116019), 'Colour': 211.0},\n",
       " {'index': datetime.datetime(2020, 5, 4, 15, 30, 9, 169710), 'Colour': 211.0},\n",
       " {'index': datetime.datetime(2020, 5, 4, 15, 30, 9, 225157), 'Colour': 211.0},\n",
       " {'index': datetime.datetime(2020, 5, 4, 15, 30, 9, 294233), 'Colour': 211.0},\n",
       " {'index': datetime.datetime(2020, 5, 4, 15, 30, 9, 349450), 'Colour': 211.0},\n",
       " {'index': datetime.datetime(2020, 5, 4, 15, 30, 9, 406857), 'Colour': 211.0},\n",
       " {'index': datetime.datetime(2020, 5, 4, 15, 30, 9, 463483), 'Colour': 211.0},\n",
       " {'index': datetime.datetime(2020, 5, 4, 15, 30, 9, 519641), 'Colour': 211.0},\n",
       " {'index': datetime.datetime(2020, 5, 4, 15, 30, 9, 574523), 'Colour': 211.0},\n",
       " {'index': datetime.datetime(2020, 5, 4, 15, 30, 9, 630033), 'Colour': 211.0},\n",
       " {'index': datetime.datetime(2020, 5, 4, 15, 30, 9, 687562), 'Colour': 211.0},\n",
       " {'index': datetime.datetime(2020, 5, 4, 15, 30, 9, 747534), 'Colour': 211.0},\n",
       " {'index': datetime.datetime(2020, 5, 4, 15, 30, 9, 804920), 'Colour': 211.0},\n",
       " {'index': datetime.datetime(2020, 5, 4, 15, 30, 9, 860969), 'Colour': 211.0},\n",
       " {'index': datetime.datetime(2020, 5, 4, 15, 30, 9, 919133), 'Colour': 211.0},\n",
       " {'index': datetime.datetime(2020, 5, 4, 15, 30, 9, 979161), 'Colour': 211.0},\n",
       " {'index': datetime.datetime(2020, 5, 4, 15, 30, 10, 32551), 'Colour': 211.0},\n",
       " {'index': datetime.datetime(2020, 5, 4, 15, 30, 10, 87523), 'Colour': 223.0},\n",
       " {'index': datetime.datetime(2020, 5, 4, 15, 30, 10, 140537), 'Colour': 245.0},\n",
       " {'index': datetime.datetime(2020, 5, 4, 15, 30, 10, 199174), 'Colour': 255.0},\n",
       " {'index': datetime.datetime(2020, 5, 4, 15, 30, 10, 271663), 'Colour': 255.0},\n",
       " {'index': datetime.datetime(2020, 5, 4, 15, 30, 10, 350369), 'Colour': 255.0},\n",
       " {'index': datetime.datetime(2020, 5, 4, 15, 37, 29, 157664), 'Colour': 255.0},\n",
       " {'index': datetime.datetime(2020, 5, 4, 15, 37, 29, 306853), 'Colour': 255.0},\n",
       " {'index': datetime.datetime(2020, 5, 4, 15, 37, 29, 382618), 'Colour': 255.0},\n",
       " {'index': datetime.datetime(2020, 5, 4, 15, 37, 29, 453315), 'Colour': 255.0},\n",
       " {'index': datetime.datetime(2020, 5, 4, 15, 37, 29, 518236), 'Colour': 255.0},\n",
       " {'index': datetime.datetime(2020, 5, 4, 15, 37, 29, 598345), 'Colour': 255.0},\n",
       " {'index': datetime.datetime(2020, 5, 4, 15, 37, 29, 737781), 'Colour': 255.0},\n",
       " {'index': datetime.datetime(2020, 5, 4, 15, 37, 29, 806493), 'Colour': 255.0},\n",
       " {'index': datetime.datetime(2020, 5, 4, 15, 37, 29, 876195), 'Colour': 255.0},\n",
       " {'index': datetime.datetime(2020, 5, 4, 15, 37, 29, 944927), 'Colour': 255.0},\n",
       " {'index': datetime.datetime(2020, 5, 4, 15, 37, 30, 10652), 'Colour': 255.0},\n",
       " {'index': datetime.datetime(2020, 5, 4, 15, 37, 30, 78011), 'Colour': 255.0},\n",
       " {'index': datetime.datetime(2020, 5, 4, 15, 37, 30, 144412), 'Colour': 255.0},\n",
       " {'index': datetime.datetime(2020, 5, 4, 15, 37, 30, 211478), 'Colour': 255.0},\n",
       " {'index': datetime.datetime(2020, 5, 4, 15, 37, 30, 292345), 'Colour': 255.0},\n",
       " {'index': datetime.datetime(2020, 5, 4, 15, 37, 30, 358504), 'Colour': 255.0},\n",
       " {'index': datetime.datetime(2020, 5, 4, 15, 37, 30, 426335), 'Colour': 255.0},\n",
       " {'index': datetime.datetime(2020, 5, 4, 15, 37, 30, 493124), 'Colour': 255.0},\n",
       " {'index': datetime.datetime(2020, 5, 4, 15, 37, 30, 558156), 'Colour': 255.0},\n",
       " {'index': datetime.datetime(2020, 5, 4, 15, 37, 30, 628679), 'Colour': 255.0},\n",
       " {'index': datetime.datetime(2020, 5, 4, 15, 37, 30, 697031), 'Colour': 255.0},\n",
       " {'index': datetime.datetime(2020, 5, 4, 15, 37, 30, 762028), 'Colour': 255.0},\n",
       " {'index': datetime.datetime(2020, 5, 4, 15, 37, 30, 831842), 'Colour': 255.0},\n",
       " {'index': datetime.datetime(2020, 5, 4, 15, 37, 30, 895928), 'Colour': 255.0},\n",
       " {'index': datetime.datetime(2020, 5, 4, 15, 37, 30, 964256), 'Colour': 255.0},\n",
       " {'index': datetime.datetime(2020, 5, 4, 15, 37, 31, 28013), 'Colour': 255.0},\n",
       " {'index': datetime.datetime(2020, 5, 4, 15, 37, 31, 97527), 'Colour': 255.0},\n",
       " {'index': datetime.datetime(2020, 5, 4, 15, 37, 31, 160864), 'Colour': 255.0},\n",
       " {'index': datetime.datetime(2020, 5, 4, 15, 37, 31, 226585), 'Colour': 255.0},\n",
       " {'index': datetime.datetime(2020, 5, 4, 15, 37, 31, 313316), 'Colour': 255.0},\n",
       " {'index': datetime.datetime(2020, 5, 4, 15, 37, 31, 376634), 'Colour': 255.0},\n",
       " {'index': datetime.datetime(2020, 5, 4, 15, 37, 31, 441752), 'Colour': 240.0},\n",
       " {'index': datetime.datetime(2020, 5, 4, 15, 37, 31, 512227), 'Colour': 220.0},\n",
       " {'index': datetime.datetime(2020, 5, 4, 15, 37, 31, 587669), 'Colour': 220.0},\n",
       " {'index': datetime.datetime(2020, 5, 4, 15, 37, 31, 732323), 'Colour': 220.0},\n",
       " {'index': datetime.datetime(2020, 5, 4, 15, 37, 31, 804277), 'Colour': 220.0},\n",
       " {'index': datetime.datetime(2020, 5, 4, 15, 37, 31, 876676), 'Colour': 220.0},\n",
       " {'index': datetime.datetime(2020, 5, 4, 15, 37, 31, 950555), 'Colour': 220.0},\n",
       " {'index': datetime.datetime(2020, 5, 4, 15, 37, 32, 21191), 'Colour': 220.0},\n",
       " {'index': datetime.datetime(2020, 5, 4, 15, 37, 32, 85022), 'Colour': 220.0},\n",
       " {'index': datetime.datetime(2020, 5, 4, 15, 37, 32, 157491), 'Colour': 220.0},\n",
       " {'index': datetime.datetime(2020, 5, 4, 15, 37, 32, 222413), 'Colour': 220.0},\n",
       " {'index': datetime.datetime(2020, 5, 4, 15, 37, 32, 310292), 'Colour': 220.0},\n",
       " {'index': datetime.datetime(2020, 5, 4, 15, 37, 32, 379324), 'Colour': 220.0},\n",
       " {'index': datetime.datetime(2020, 5, 4, 15, 37, 32, 450304), 'Colour': 220.0},\n",
       " {'index': datetime.datetime(2020, 5, 4, 15, 37, 32, 517374), 'Colour': 220.0},\n",
       " {'index': datetime.datetime(2020, 5, 4, 15, 37, 32, 589406), 'Colour': 220.0},\n",
       " {'index': datetime.datetime(2020, 5, 4, 15, 37, 32, 658840), 'Colour': 220.0},\n",
       " {'index': datetime.datetime(2020, 5, 4, 15, 37, 32, 731551), 'Colour': 245.0},\n",
       " {'index': datetime.datetime(2020, 5, 4, 15, 37, 32, 798047), 'Colour': 255.0},\n",
       " {'index': datetime.datetime(2020, 5, 4, 15, 37, 32, 862496), 'Colour': 255.0},\n",
       " {'index': datetime.datetime(2020, 5, 4, 15, 37, 32, 929572), 'Colour': 255.0},\n",
       " {'index': datetime.datetime(2020, 5, 4, 15, 37, 32, 993342), 'Colour': 255.0},\n",
       " {'index': datetime.datetime(2020, 5, 4, 15, 37, 33, 60006), 'Colour': 255.0},\n",
       " {'index': datetime.datetime(2020, 5, 4, 15, 37, 33, 129638), 'Colour': 255.0},\n",
       " {'index': datetime.datetime(2020, 5, 4, 15, 37, 33, 197671), 'Colour': 255.0},\n",
       " {'index': datetime.datetime(2020, 5, 4, 15, 37, 33, 295174), 'Colour': 255.0},\n",
       " {'index': datetime.datetime(2020, 5, 4, 15, 37, 33, 365054), 'Colour': 255.0},\n",
       " {'index': datetime.datetime(2020, 5, 4, 15, 37, 33, 434137), 'Colour': 255.0},\n",
       " {'index': datetime.datetime(2020, 5, 4, 15, 37, 33, 498026), 'Colour': 252.0},\n",
       " {'index': datetime.datetime(2020, 5, 4, 15, 37, 33, 572830), 'Colour': 211.0},\n",
       " {'index': datetime.datetime(2020, 5, 4, 15, 37, 33, 700777), 'Colour': 211.0},\n",
       " {'index': datetime.datetime(2020, 5, 4, 15, 37, 33, 767902), 'Colour': 211.0},\n",
       " {'index': datetime.datetime(2020, 5, 4, 15, 37, 33, 829685), 'Colour': 211.0},\n",
       " {'index': datetime.datetime(2020, 5, 4, 15, 37, 33, 892422), 'Colour': 211.0},\n",
       " {'index': datetime.datetime(2020, 5, 4, 15, 37, 33, 958469), 'Colour': 211.0},\n",
       " {'index': datetime.datetime(2020, 5, 4, 15, 37, 34, 26768), 'Colour': 211.0},\n",
       " {'index': datetime.datetime(2020, 5, 4, 15, 37, 34, 91916), 'Colour': 211.0},\n",
       " {'index': datetime.datetime(2020, 5, 4, 15, 37, 34, 162730), 'Colour': 211.0},\n",
       " {'index': datetime.datetime(2020, 5, 4, 15, 37, 34, 235437), 'Colour': 211.0},\n",
       " {'index': datetime.datetime(2020, 5, 4, 15, 37, 34, 344509), 'Colour': 211.0},\n",
       " {'index': datetime.datetime(2020, 5, 4, 15, 37, 34, 415323), 'Colour': 211.0},\n",
       " {'index': datetime.datetime(2020, 5, 4, 15, 37, 34, 484117), 'Colour': 211.0},\n",
       " {'index': datetime.datetime(2020, 5, 4, 15, 37, 34, 555324), 'Colour': 245.0},\n",
       " {'index': datetime.datetime(2020, 5, 4, 15, 37, 34, 628286), 'Colour': 255.0},\n",
       " {'index': datetime.datetime(2020, 5, 4, 15, 37, 34, 699085), 'Colour': 255.0},\n",
       " {'index': datetime.datetime(2020, 5, 4, 15, 37, 34, 764949), 'Colour': 255.0},\n",
       " {'index': datetime.datetime(2020, 5, 4, 15, 37, 34, 833956), 'Colour': 255.0},\n",
       " {'index': datetime.datetime(2020, 5, 4, 15, 37, 34, 898841), 'Colour': 255.0},\n",
       " {'index': datetime.datetime(2020, 5, 4, 15, 37, 34, 967901), 'Colour': 255.0},\n",
       " {'index': datetime.datetime(2020, 5, 4, 15, 37, 35, 36303), 'Colour': 255.0},\n",
       " {'index': datetime.datetime(2020, 5, 4, 15, 37, 35, 104446), 'Colour': 255.0},\n",
       " {'index': datetime.datetime(2020, 5, 4, 15, 37, 35, 170736), 'Colour': 255.0},\n",
       " {'index': datetime.datetime(2020, 5, 4, 15, 37, 35, 236409), 'Colour': 255.0},\n",
       " {'index': datetime.datetime(2020, 5, 4, 15, 37, 35, 317355), 'Colour': 255.0},\n",
       " {'index': datetime.datetime(2020, 5, 4, 15, 37, 35, 386231), 'Colour': 255.0},\n",
       " {'index': datetime.datetime(2020, 5, 4, 15, 37, 35, 456304), 'Colour': 255.0},\n",
       " {'index': datetime.datetime(2020, 5, 4, 15, 37, 35, 591691), 'Colour': 255.0},\n",
       " {'index': datetime.datetime(2020, 5, 4, 15, 37, 35, 658804), 'Colour': 255.0},\n",
       " {'index': datetime.datetime(2020, 5, 4, 15, 37, 35, 728452), 'Colour': 255.0},\n",
       " {'index': datetime.datetime(2020, 5, 4, 15, 37, 35, 797175), 'Colour': 255.0},\n",
       " {'index': datetime.datetime(2020, 5, 4, 15, 37, 35, 867672), 'Colour': 234.0},\n",
       " {'index': datetime.datetime(2020, 5, 4, 15, 37, 35, 934697), 'Colour': 128.0},\n",
       " {'index': datetime.datetime(2020, 5, 4, 15, 38, 35, 216944), 'Colour': 255.0},\n",
       " {'index': datetime.datetime(2020, 5, 4, 15, 38, 35, 306982), 'Colour': 255.0},\n",
       " {'index': datetime.datetime(2020, 5, 4, 15, 38, 35, 376276), 'Colour': 255.0},\n",
       " {'index': datetime.datetime(2020, 5, 4, 15, 38, 35, 442962), 'Colour': 255.0},\n",
       " {'index': datetime.datetime(2020, 5, 4, 15, 38, 35, 509749), 'Colour': 255.0},\n",
       " {'index': datetime.datetime(2020, 5, 4, 15, 38, 35, 581050), 'Colour': 255.0},\n",
       " {'index': datetime.datetime(2020, 5, 4, 15, 38, 35, 659693), 'Colour': 255.0},\n",
       " {'index': datetime.datetime(2020, 5, 4, 15, 38, 35, 739989), 'Colour': 255.0},\n",
       " {'index': datetime.datetime(2020, 5, 4, 15, 38, 35, 820014), 'Colour': 255.0},\n",
       " {'index': datetime.datetime(2020, 5, 4, 15, 38, 35, 896709), 'Colour': 255.0},\n",
       " {'index': datetime.datetime(2020, 5, 4, 15, 38, 35, 973422), 'Colour': 255.0},\n",
       " {'index': datetime.datetime(2020, 5, 4, 15, 38, 36, 51356), 'Colour': 255.0},\n",
       " {'index': datetime.datetime(2020, 5, 4, 15, 38, 36, 123112), 'Colour': 255.0},\n",
       " {'index': datetime.datetime(2020, 5, 4, 15, 38, 36, 196811), 'Colour': 255.0},\n",
       " {'index': datetime.datetime(2020, 5, 4, 15, 38, 36, 281804), 'Colour': 255.0},\n",
       " {'index': datetime.datetime(2020, 5, 4, 15, 38, 36, 357571), 'Colour': 255.0},\n",
       " {'index': datetime.datetime(2020, 5, 4, 15, 38, 36, 433195), 'Colour': 255.0},\n",
       " {'index': datetime.datetime(2020, 5, 4, 15, 38, 36, 511081), 'Colour': 238.0},\n",
       " {'index': datetime.datetime(2020, 5, 4, 15, 38, 36, 596852), 'Colour': 221.0},\n",
       " {'index': datetime.datetime(2020, 5, 4, 15, 38, 36, 762749), 'Colour': 220.0},\n",
       " {'index': datetime.datetime(2020, 5, 4, 15, 38, 36, 839593), 'Colour': 220.0},\n",
       " {'index': datetime.datetime(2020, 5, 4, 15, 38, 36, 910050), 'Colour': 220.0},\n",
       " {'index': datetime.datetime(2020, 5, 4, 15, 38, 36, 976381), 'Colour': 220.0},\n",
       " {'index': datetime.datetime(2020, 5, 4, 15, 38, 37, 41366), 'Colour': 220.0},\n",
       " {'index': datetime.datetime(2020, 5, 4, 15, 38, 37, 102058), 'Colour': 220.0},\n",
       " {'index': datetime.datetime(2020, 5, 4, 15, 38, 37, 177992), 'Colour': 220.0},\n",
       " {'index': datetime.datetime(2020, 5, 4, 15, 38, 37, 249182), 'Colour': 220.0},\n",
       " {'index': datetime.datetime(2020, 5, 4, 15, 38, 37, 323783), 'Colour': 220.0},\n",
       " {'index': datetime.datetime(2020, 5, 4, 15, 38, 37, 390195), 'Colour': 220.0},\n",
       " {'index': datetime.datetime(2020, 5, 4, 15, 38, 37, 457618), 'Colour': 220.0},\n",
       " {'index': datetime.datetime(2020, 5, 4, 15, 38, 37, 526714), 'Colour': 220.0},\n",
       " {'index': datetime.datetime(2020, 5, 4, 15, 38, 37, 590796), 'Colour': 227.0},\n",
       " {'index': datetime.datetime(2020, 5, 4, 15, 38, 37, 658672), 'Colour': 255.0},\n",
       " {'index': datetime.datetime(2020, 5, 4, 15, 38, 37, 726474), 'Colour': 255.0},\n",
       " {'index': datetime.datetime(2020, 5, 4, 15, 38, 37, 789202), 'Colour': 255.0},\n",
       " {'index': datetime.datetime(2020, 5, 4, 15, 38, 37, 857009), 'Colour': 255.0},\n",
       " {'index': datetime.datetime(2020, 5, 4, 15, 38, 37, 925752), 'Colour': 255.0},\n",
       " {'index': datetime.datetime(2020, 5, 4, 15, 38, 37, 990464), 'Colour': 255.0},\n",
       " {'index': datetime.datetime(2020, 5, 4, 15, 38, 38, 55850), 'Colour': 255.0},\n",
       " {'index': datetime.datetime(2020, 5, 4, 15, 38, 38, 121751), 'Colour': 255.0},\n",
       " {'index': datetime.datetime(2020, 5, 4, 15, 38, 38, 187805), 'Colour': 255.0},\n",
       " {'index': datetime.datetime(2020, 5, 4, 15, 38, 38, 263111), 'Colour': 255.0},\n",
       " {'index': datetime.datetime(2020, 5, 4, 15, 38, 38, 341637), 'Colour': 255.0},\n",
       " {'index': datetime.datetime(2020, 5, 4, 15, 38, 38, 470613), 'Colour': 255.0},\n",
       " {'index': datetime.datetime(2020, 5, 4, 15, 38, 38, 536901), 'Colour': 249.0},\n",
       " {'index': datetime.datetime(2020, 5, 4, 15, 38, 38, 600278), 'Colour': 228.0},\n",
       " {'index': datetime.datetime(2020, 5, 4, 15, 38, 38, 663950), 'Colour': 211.0},\n",
       " {'index': datetime.datetime(2020, 5, 4, 15, 38, 38, 733804), 'Colour': 211.0},\n",
       " {'index': datetime.datetime(2020, 5, 4, 15, 38, 38, 797631), 'Colour': 211.0},\n",
       " {'index': datetime.datetime(2020, 5, 4, 15, 38, 38, 861323), 'Colour': 211.0},\n",
       " {'index': datetime.datetime(2020, 5, 4, 15, 38, 38, 925199), 'Colour': 211.0},\n",
       " {'index': datetime.datetime(2020, 5, 4, 15, 38, 38, 991186), 'Colour': 211.0},\n",
       " {'index': datetime.datetime(2020, 5, 4, 15, 38, 39, 56225), 'Colour': 211.0},\n",
       " {'index': datetime.datetime(2020, 5, 4, 15, 38, 39, 121789), 'Colour': 211.0},\n",
       " {'index': datetime.datetime(2020, 5, 4, 15, 38, 39, 189173), 'Colour': 211.0},\n",
       " {'index': datetime.datetime(2020, 5, 4, 15, 38, 39, 264261), 'Colour': 211.0},\n",
       " {'index': datetime.datetime(2020, 5, 4, 15, 38, 39, 331718), 'Colour': 211.0},\n",
       " {'index': datetime.datetime(2020, 5, 4, 15, 38, 39, 397817), 'Colour': 211.0},\n",
       " {'index': datetime.datetime(2020, 5, 4, 15, 38, 39, 461874), 'Colour': 211.0},\n",
       " {'index': datetime.datetime(2020, 5, 4, 15, 38, 39, 527215), 'Colour': 211.0},\n",
       " {'index': datetime.datetime(2020, 5, 4, 15, 38, 39, 591674), 'Colour': 211.0},\n",
       " {'index': datetime.datetime(2020, 5, 4, 15, 38, 39, 655966), 'Colour': 211.0},\n",
       " {'index': datetime.datetime(2020, 5, 4, 15, 38, 39, 721057), 'Colour': 211.0},\n",
       " {'index': datetime.datetime(2020, 5, 4, 15, 38, 39, 788670), 'Colour': 211.0},\n",
       " {'index': datetime.datetime(2020, 5, 4, 15, 38, 39, 855467), 'Colour': 226.0},\n",
       " {'index': datetime.datetime(2020, 5, 4, 15, 38, 39, 921841), 'Colour': 247.0},\n",
       " {'index': datetime.datetime(2020, 5, 4, 15, 38, 39, 992147), 'Colour': 255.0},\n",
       " {'index': datetime.datetime(2020, 5, 4, 15, 38, 40, 56782), 'Colour': 255.0},\n",
       " {'index': datetime.datetime(2020, 5, 4, 15, 38, 40, 122182), 'Colour': 255.0},\n",
       " {'index': datetime.datetime(2020, 5, 4, 15, 38, 40, 189232), 'Colour': 255.0},\n",
       " {'index': datetime.datetime(2020, 5, 4, 15, 38, 40, 283294), 'Colour': 255.0},\n",
       " {'index': datetime.datetime(2020, 5, 4, 15, 38, 40, 413919), 'Colour': 255.0},\n",
       " {'index': datetime.datetime(2020, 5, 4, 15, 38, 40, 478881), 'Colour': 255.0},\n",
       " {'index': datetime.datetime(2020, 5, 4, 15, 38, 40, 544614), 'Colour': 255.0},\n",
       " {'index': datetime.datetime(2020, 5, 4, 15, 38, 40, 611899), 'Colour': 255.0},\n",
       " {'index': datetime.datetime(2020, 5, 4, 15, 38, 40, 676607), 'Colour': 255.0},\n",
       " {'index': datetime.datetime(2020, 5, 4, 15, 38, 40, 742341), 'Colour': 255.0},\n",
       " {'index': datetime.datetime(2020, 5, 4, 15, 38, 40, 806670), 'Colour': 255.0},\n",
       " {'index': datetime.datetime(2020, 5, 4, 15, 38, 40, 871994), 'Colour': 255.0},\n",
       " {'index': datetime.datetime(2020, 5, 4, 15, 38, 40, 939699), 'Colour': 255.0},\n",
       " {'index': datetime.datetime(2020, 5, 4, 15, 38, 41, 6061), 'Colour': 255.0},\n",
       " {'index': datetime.datetime(2020, 5, 4, 15, 38, 41, 71547), 'Colour': 255.0},\n",
       " {'index': datetime.datetime(2020, 5, 4, 15, 38, 41, 138594), 'Colour': 255.0},\n",
       " {'index': datetime.datetime(2020, 5, 4, 15, 38, 41, 205339), 'Colour': 255.0},\n",
       " {'index': datetime.datetime(2020, 5, 4, 15, 38, 41, 288859), 'Colour': 255.0},\n",
       " {'index': datetime.datetime(2020, 5, 4, 15, 38, 41, 363330), 'Colour': 163.0},\n",
       " {'index': datetime.datetime(2020, 5, 4, 15, 38, 41, 427097), 'Colour': 128.0},\n",
       " {'index': datetime.datetime(2020, 5, 4, 15, 38, 41, 512290), 'Colour': 128.0},\n",
       " {'index': datetime.datetime(2020, 5, 4, 15, 38, 41, 578749), 'Colour': 128.0},\n",
       " {'index': datetime.datetime(2020, 5, 4, 15, 38, 41, 654817), 'Colour': 128.0},\n",
       " {'index': datetime.datetime(2020, 5, 4, 15, 38, 41, 746093), 'Colour': 128.0},\n",
       " {'index': datetime.datetime(2020, 5, 4, 15, 38, 41, 815914), 'Colour': 128.0},\n",
       " {'index': datetime.datetime(2020, 5, 4, 15, 38, 41, 889824), 'Colour': 128.0},\n",
       " {'index': datetime.datetime(2020, 5, 4, 15, 38, 41, 977007), 'Colour': 128.0},\n",
       " {'index': datetime.datetime(2020, 5, 4, 15, 38, 42, 49167), 'Colour': 128.0},\n",
       " {'index': datetime.datetime(2020, 5, 4, 15, 38, 42, 121320), 'Colour': 128.0},\n",
       " {'index': datetime.datetime(2020, 5, 4, 15, 38, 42, 205615), 'Colour': 128.0},\n",
       " {'index': datetime.datetime(2020, 5, 4, 15, 38, 42, 292562), 'Colour': 128.0},\n",
       " {'index': datetime.datetime(2020, 5, 4, 15, 38, 42, 395392), 'Colour': 128.0},\n",
       " {'index': datetime.datetime(2020, 5, 4, 15, 38, 42, 537948), 'Colour': 246.0},\n",
       " {'index': datetime.datetime(2020, 5, 4, 15, 38, 42, 603665), 'Colour': 255.0},\n",
       " {'index': datetime.datetime(2020, 5, 4, 15, 38, 42, 669509), 'Colour': 255.0},\n",
       " {'index': datetime.datetime(2020, 5, 4, 15, 38, 42, 732908), 'Colour': 255.0},\n",
       " {'index': datetime.datetime(2020, 5, 4, 15, 38, 42, 798375), 'Colour': 255.0},\n",
       " {'index': datetime.datetime(2020, 5, 4, 15, 38, 42, 864617), 'Colour': 255.0},\n",
       " {'index': datetime.datetime(2020, 5, 4, 15, 38, 42, 932443), 'Colour': 255.0},\n",
       " {'index': datetime.datetime(2020, 5, 4, 15, 38, 43, 4478), 'Colour': 255.0},\n",
       " {'index': datetime.datetime(2020, 5, 4, 15, 38, 43, 79282), 'Colour': 255.0},\n",
       " {'index': datetime.datetime(2020, 5, 4, 15, 38, 43, 145666), 'Colour': 255.0},\n",
       " {'index': datetime.datetime(2020, 5, 4, 15, 38, 43, 214786), 'Colour': 255.0},\n",
       " {'index': datetime.datetime(2020, 5, 4, 15, 38, 43, 302641), 'Colour': 255.0},\n",
       " {'index': datetime.datetime(2020, 5, 4, 15, 38, 43, 377324), 'Colour': 255.0},\n",
       " {'index': datetime.datetime(2020, 5, 4, 15, 38, 43, 442665), 'Colour': 167.0}]"
      ]
     },
     "execution_count": 23,
     "metadata": {},
     "output_type": "execute_result"
    }
   ],
   "source": [
    "testSim.results_log"
   ]
  },
  {
   "cell_type": "markdown",
   "metadata": {},
   "source": [
    "We can cast this into a form we can start working with it.\n",
    "\n",
    "Long form is perhaps the easiest to work with when charting, particularly if using `seaborn`.\n",
    "\n",
    "As for the timestamps, it's perhaps easiest to convert them to time deltas rebased from the earliest timestamp we see in the data log."
   ]
  },
  {
   "cell_type": "code",
   "execution_count": 24,
   "metadata": {},
   "outputs": [
    {
     "data": {
      "text/html": [
       "<div>\n",
       "<style scoped>\n",
       "    .dataframe tbody tr th:only-of-type {\n",
       "        vertical-align: middle;\n",
       "    }\n",
       "\n",
       "    .dataframe tbody tr th {\n",
       "        vertical-align: top;\n",
       "    }\n",
       "\n",
       "    .dataframe thead th {\n",
       "        text-align: right;\n",
       "    }\n",
       "</style>\n",
       "<table border=\"1\" class=\"dataframe\">\n",
       "  <thead>\n",
       "    <tr style=\"text-align: right;\">\n",
       "      <th></th>\n",
       "      <th>index</th>\n",
       "      <th>variable</th>\n",
       "      <th>value</th>\n",
       "    </tr>\n",
       "  </thead>\n",
       "  <tbody>\n",
       "    <tr>\n",
       "      <th>0</th>\n",
       "      <td>00:00:00</td>\n",
       "      <td>Colour</td>\n",
       "      <td>255.0</td>\n",
       "    </tr>\n",
       "    <tr>\n",
       "      <th>1</th>\n",
       "      <td>00:00:00.074364</td>\n",
       "      <td>Colour</td>\n",
       "      <td>255.0</td>\n",
       "    </tr>\n",
       "    <tr>\n",
       "      <th>2</th>\n",
       "      <td>00:00:00.128988</td>\n",
       "      <td>Colour</td>\n",
       "      <td>255.0</td>\n",
       "    </tr>\n",
       "    <tr>\n",
       "      <th>3</th>\n",
       "      <td>00:00:00.181555</td>\n",
       "      <td>Colour</td>\n",
       "      <td>255.0</td>\n",
       "    </tr>\n",
       "    <tr>\n",
       "      <th>4</th>\n",
       "      <td>00:00:00.241433</td>\n",
       "      <td>Colour</td>\n",
       "      <td>255.0</td>\n",
       "    </tr>\n",
       "  </tbody>\n",
       "</table>\n",
       "</div>"
      ],
      "text/plain": [
       "            index variable  value\n",
       "0        00:00:00   Colour  255.0\n",
       "1 00:00:00.074364   Colour  255.0\n",
       "2 00:00:00.128988   Colour  255.0\n",
       "3 00:00:00.181555   Colour  255.0\n",
       "4 00:00:00.241433   Colour  255.0"
      ]
     },
     "execution_count": 24,
     "metadata": {},
     "output_type": "execute_result"
    }
   ],
   "source": [
    "import pandas as pd\n",
    "\n",
    "def get_dataframe_from_datalog(datalog):\n",
    "    \"\"\"Generate a datafrome from simulator datalog.\"\"\"\n",
    "    df = pd.DataFrame(datalog)\n",
    "    if not df.empty:\n",
    "        df = df.melt(id_vars='index').dropna()\n",
    "        df['index'] = pd.to_timedelta(df['index']-df['index'].min())\n",
    "    return df\n",
    "\n",
    "df = get_dataframe_from_datalog(testSim.results_log)\n",
    "df.head()"
   ]
  },
  {
   "cell_type": "markdown",
   "metadata": {},
   "source": [
    "In this form we can plot it easily enough using seaborn:"
   ]
  },
  {
   "cell_type": "code",
   "execution_count": 25,
   "metadata": {},
   "outputs": [
    {
     "data": {
      "image/png": "[encoded data removed]",
      "text/plain": [
       "<Figure size 432x288 with 1 Axes>"
      ]
     },
     "metadata": {
      "needs_background": "light"
     },
     "output_type": "display_data"
    }
   ],
   "source": [
    "import seaborn as sns\n",
    "ax = sns.lineplot(x=\"index\", y=\"value\", hue='variable', data=df)"
   ]
  },
  {
   "cell_type": "markdown",
   "metadata": {},
   "source": [
    "We can also do faceted plots to better cope with different scales."
   ]
  },
  {
   "cell_type": "code",
   "execution_count": 26,
   "metadata": {},
   "outputs": [
    {
     "data": {
      "image/png": "[encoded data removed]",
      "text/plain": [
       "<Figure size 720x360 with 1 Axes>"
      ]
     },
     "metadata": {
      "needs_background": "light"
     },
     "output_type": "display_data"
    }
   ],
   "source": [
    "import matplotlib.pyplot as plt\n",
    "\n",
    "g = sns.FacetGrid(df, row=\"variable\", height=5, aspect=2, sharey=False)\n",
    "g = g.map(plt.plot, \"index\", \"value\", marker=\".\");"
   ]
  },
  {
   "cell_type": "code",
   "execution_count": null,
   "metadata": {},
   "outputs": [],
   "source": []
  }
 ],
 "metadata": {
  "kernelspec": {
   "display_name": "Python 3",
   "language": "python",
   "name": "python3"
  },
  "language_info": {
   "codemirror_mode": {
    "name": "ipython",
    "version": 3
   },
   "file_extension": ".py",
   "mimetype": "text/x-python",
   "name": "python",
   "nbconvert_exporter": "python",
   "pygments_lexer": "ipython3",
   "version": "3.7.6"
  }
 },
 "nbformat": 4,
 "nbformat_minor": 2
}
