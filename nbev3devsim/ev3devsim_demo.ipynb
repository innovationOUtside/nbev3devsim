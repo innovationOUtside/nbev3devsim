{
 "cells": [
  {
   "cell_type": "markdown",
   "metadata": {},
   "source": [
    "# Demo of Ev3DevSim in a Jupyter Notebook\n",
    "\n",
    "\n",
    "Experiments trying to get [`ev3devsim`](https://www.aposteriori.com.sg/Ev3devSim/index.html) [[code](https://github.com/QuirkyCort/ev3dev-sim)] running in a Jupyter notebook as  [`jp_proxy_widget`](https://github.com/AaronWatters/jp_proxy_widget/blob/master/notebooks/Tutorial.ipynb) proxied `ipywidget`."
   ]
  },
  {
   "cell_type": "code",
   "execution_count": 33,
   "metadata": {},
   "outputs": [
    {
     "name": "stdout",
     "output_type": "stream",
     "text": [
      "The autoreload extension is already loaded. To reload it, use:\n",
      "  %reload_ext autoreload\n"
     ]
    }
   ],
   "source": [
    "%load_ext autoreload\n",
    "%autoreload 2\n",
    "    \n",
    "import ev3devsim_nb as eds\n",
    "#from nbev3devsim import ev3devsim_nb as eds2"
   ]
  },
  {
   "cell_type": "markdown",
   "metadata": {},
   "source": [
    "The model I'm working towards is:\n",
    "\n",
    "- code is entered into a block magic code cell and sent to the simulator;\n",
    "- the code is then `Run` in the simulator;\n",
    "- charts in the simulator stream data from the sensors in real time as the simulator runs the program; (at the moment, only the ultrasound sensor value is displayed;)\n",
    "- sensor data can be loaded into the Python context from the simulator and explored via Python.\n",
    "\n",
    "At the moment the robot is configured by a simulator dialogue but this will move to configuration from a notebook code cell.\n",
    "\n",
    "There are lots of things to do (some of which were identified in the origianl project to do, others I have added), including:\n",
    "\n",
    "- Document acceleration / robot configurations\n",
    "- Add LED indicator\n",
    "- Add pen down trace\n",
    "- Option to add noise on motor and sensor values\n",
    "- Define some common robot configurations\n",
    "- Handle invalid robot configurations\n",
    "- Allow any combination of sensors\n",
    "- Collision physics\n",
    "- Canvas operations:\n",
    "  - zoom in / out on map\n",
    "  - reset robot location\n",
    "- Add the ability to embed more than one simulator in the same notebook"
   ]
  },
  {
   "cell_type": "code",
   "execution_count": 35,
   "metadata": {
    "scrolled": false
   },
   "outputs": [
    {
     "data": {
      "application/vnd.jupyter.widget-view+json": {
       "model_id": "9c806d2810a54916bc7ca3400effc0cb",
       "version_major": 2,
       "version_minor": 0
      },
      "text/plain": [
       "Ev3DevWidget(status='Not yet rendered')"
      ]
     },
     "metadata": {},
     "output_type": "display_data"
    }
   ],
   "source": [
    "testSim = eds.Ev3DevWidget()\n",
    "\n",
    "# There is a sample program (eds.prog) we can load into the simulator\n",
    "# Note: I need a better sample program!\n",
    "testSim.set_element(\"prog\", eds.prog)\n",
    "display(testSim)\n",
    "\n",
    "# Press the Run button to run the simulator for a moment or two\n",
    "# then the Stop button to stop it...\n",
    "# if you get a steering angle error, run the thing again!"
   ]
  },
  {
   "cell_type": "markdown",
   "metadata": {},
   "source": [
    "We can get hold of the robot state via a call into the simulator widget:"
   ]
  },
  {
   "cell_type": "code",
   "execution_count": 37,
   "metadata": {},
   "outputs": [
    {
     "name": "stdout",
     "output_type": "stream",
     "text": [
      "Python thinks the sim data is: {'x': 1181, 'y': 571.5, 'angle': 0, 'leftWheel': {'polarity': 'normal', 'pos': 67.92592592592592, 'time_sp': 0, 'position_sp': 0, 'speed_sp': 210, 'speed': 210, 'command': 'run-forever', 'state': 'running'}, 'rightWheel': {'polarity': 'normal', 'pos': 67.92592592592592, 'time_sp': 0, 'position_sp': 0, 'speed_sp': 210, 'speed': 210, 'command': 'run-forever', 'state': 'running'}, 'sensor1': [255, 255, 255], 'sensor2': [1, 1, 1], 'gyro': [0, 0], 'ultrasonic': 1134.6468211313688}\n"
     ]
    }
   ],
   "source": [
    "eds.sim_report(testSim)"
   ]
  },
  {
   "cell_type": "markdown",
   "metadata": {},
   "source": [
    "We can also get hold of data logged in the simulator:"
   ]
  },
  {
   "cell_type": "code",
   "execution_count": 38,
   "metadata": {},
   "outputs": [
    {
     "data": {
      "text/plain": [
       "[{'index': datetime.datetime(2020, 3, 12, 17, 35, 1, 650819),\n",
       "  'Ultrasonic': 97.3},\n",
       " {'index': datetime.datetime(2020, 3, 12, 17, 35, 1, 787389), 'Color': 0.0},\n",
       " {'index': datetime.datetime(2020, 3, 12, 17, 35, 1, 834929),\n",
       "  'Ultrasonic': 97.3},\n",
       " {'index': datetime.datetime(2020, 3, 12, 17, 35, 1, 890026), 'Color': 0.0},\n",
       " {'index': datetime.datetime(2020, 3, 12, 17, 35, 1, 934823),\n",
       "  'Ultrasonic': 97.2},\n",
       " {'index': datetime.datetime(2020, 3, 12, 17, 35, 1, 979687), 'Color': 4.0},\n",
       " {'index': datetime.datetime(2020, 3, 12, 17, 35, 2, 24731),\n",
       "  'Ultrasonic': 96.6},\n",
       " {'index': datetime.datetime(2020, 3, 12, 17, 35, 2, 61978), 'Color': 4.0},\n",
       " {'index': datetime.datetime(2020, 3, 12, 17, 35, 2, 105841),\n",
       "  'Ultrasonic': 96.6},\n",
       " {'index': datetime.datetime(2020, 3, 12, 17, 35, 2, 151104), 'Color': 4.0},\n",
       " {'index': datetime.datetime(2020, 3, 12, 17, 35, 2, 204042),\n",
       "  'Ultrasonic': 95.7},\n",
       " {'index': datetime.datetime(2020, 3, 12, 17, 35, 2, 251057), 'Color': 4.0},\n",
       " {'index': datetime.datetime(2020, 3, 12, 17, 35, 2, 299838),\n",
       "  'Ultrasonic': 94.7},\n",
       " {'index': datetime.datetime(2020, 3, 12, 17, 35, 2, 336391), 'Color': 0.0}]"
      ]
     },
     "execution_count": 38,
     "metadata": {},
     "output_type": "execute_result"
    }
   ],
   "source": [
    "testSim.results_log"
   ]
  },
  {
   "cell_type": "markdown",
   "metadata": {},
   "source": [
    "We can cast this into a form we can start working with it.\n",
    "\n",
    "Long form is perhaps the easiest to work with when charting, particularly if using `seaborn`.\n",
    "\n",
    "As for the timestamps, it's perhaps easiest to convert them to time deltas rebased from the earliest timestamp we see in the data log."
   ]
  },
  {
   "cell_type": "code",
   "execution_count": 39,
   "metadata": {},
   "outputs": [
    {
     "data": {
      "text/html": [
       "<div>\n",
       "<style scoped>\n",
       "    .dataframe tbody tr th:only-of-type {\n",
       "        vertical-align: middle;\n",
       "    }\n",
       "\n",
       "    .dataframe tbody tr th {\n",
       "        vertical-align: top;\n",
       "    }\n",
       "\n",
       "    .dataframe thead th {\n",
       "        text-align: right;\n",
       "    }\n",
       "</style>\n",
       "<table border=\"1\" class=\"dataframe\">\n",
       "  <thead>\n",
       "    <tr style=\"text-align: right;\">\n",
       "      <th></th>\n",
       "      <th>index</th>\n",
       "      <th>variable</th>\n",
       "      <th>value</th>\n",
       "    </tr>\n",
       "  </thead>\n",
       "  <tbody>\n",
       "    <tr>\n",
       "      <th>0</th>\n",
       "      <td>00:00:00</td>\n",
       "      <td>Ultrasonic</td>\n",
       "      <td>97.3</td>\n",
       "    </tr>\n",
       "    <tr>\n",
       "      <th>2</th>\n",
       "      <td>00:00:00.184110</td>\n",
       "      <td>Ultrasonic</td>\n",
       "      <td>97.3</td>\n",
       "    </tr>\n",
       "    <tr>\n",
       "      <th>4</th>\n",
       "      <td>00:00:00.284004</td>\n",
       "      <td>Ultrasonic</td>\n",
       "      <td>97.2</td>\n",
       "    </tr>\n",
       "    <tr>\n",
       "      <th>6</th>\n",
       "      <td>00:00:00.373912</td>\n",
       "      <td>Ultrasonic</td>\n",
       "      <td>96.6</td>\n",
       "    </tr>\n",
       "    <tr>\n",
       "      <th>8</th>\n",
       "      <td>00:00:00.455022</td>\n",
       "      <td>Ultrasonic</td>\n",
       "      <td>96.6</td>\n",
       "    </tr>\n",
       "  </tbody>\n",
       "</table>\n",
       "</div>"
      ],
      "text/plain": [
       "            index    variable  value\n",
       "0        00:00:00  Ultrasonic   97.3\n",
       "2 00:00:00.184110  Ultrasonic   97.3\n",
       "4 00:00:00.284004  Ultrasonic   97.2\n",
       "6 00:00:00.373912  Ultrasonic   96.6\n",
       "8 00:00:00.455022  Ultrasonic   96.6"
      ]
     },
     "execution_count": 39,
     "metadata": {},
     "output_type": "execute_result"
    }
   ],
   "source": [
    "import pandas as pd\n",
    "\n",
    "def get_dataframe_from_datalog(datalog):\n",
    "    \"\"\"Generate a datafrome from simulator datalog.\"\"\"\n",
    "    df = pd.DataFrame(datalog)\n",
    "    if not df.empty:\n",
    "        df = df.melt(id_vars='index').dropna()\n",
    "        df['index'] = pd.to_timedelta(df['index']-df['index'].min())\n",
    "    return df\n",
    "\n",
    "df = get_dataframe_from_datalog(testSim.results_log)\n",
    "df.head()"
   ]
  },
  {
   "cell_type": "markdown",
   "metadata": {},
   "source": [
    "In this form we can plot it easily enough using seaborn:"
   ]
  },
  {
   "cell_type": "code",
   "execution_count": 40,
   "metadata": {},
   "outputs": [
    {
     "data": {
      "image/png": "[encoded data removed]",
      "text/plain": [
       "<Figure size 432x288 with 1 Axes>"
      ]
     },
     "metadata": {
      "needs_background": "light"
     },
     "output_type": "display_data"
    }
   ],
   "source": [
    "import seaborn as sns\n",
    "ax = sns.lineplot(x=\"index\", y=\"value\", hue='variable', data=df)"
   ]
  },
  {
   "cell_type": "markdown",
   "metadata": {},
   "source": [
    "We can also do faceted plots to better cope with different scales."
   ]
  },
  {
   "cell_type": "code",
   "execution_count": 41,
   "metadata": {},
   "outputs": [
    {
     "data": {
      "image/png": "[encoded data removed]",
      "text/plain": [
       "<Figure size 720x720 with 2 Axes>"
      ]
     },
     "metadata": {
      "needs_background": "light"
     },
     "output_type": "display_data"
    }
   ],
   "source": [
    "import matplotlib.pyplot as plt\n",
    "\n",
    "g = sns.FacetGrid(df, row=\"variable\", height=5, aspect=2, sharey=False)\n",
    "g = g.map(plt.plot, \"index\", \"value\", marker=\".\");"
   ]
  },
  {
   "cell_type": "markdown",
   "metadata": {},
   "source": [
    "At the moment, we can only embed a single simulator in the single notebook.\n",
    "\n",
    "This makes it trickier to maintain separate cells for running different programs.\n",
    "\n",
    "Also note that the code intended for execution by the simulator must be contained within a single cell.\n",
    "\n",
    "To send code to a simulator, create the simulator:"
   ]
  },
  {
   "cell_type": "markdown",
   "metadata": {},
   "source": [
    "First we need to define a `%%sim_magic` block cell magic; the magic accepts a variable referring to the simulator object as well the lines of code we want to execute:"
   ]
  },
  {
   "cell_type": "code",
   "execution_count": 42,
   "metadata": {},
   "outputs": [],
   "source": [
    "from IPython.core.magic import register_cell_magic\n",
    "\n",
    "@register_cell_magic\n",
    "def sim_magic(line, cell):\n",
    "    \"Send code to simulator.\"\n",
    "    eval(line).set_element(\"prog\", cell)"
   ]
  },
  {
   "cell_type": "markdown",
   "metadata": {},
   "source": [
    "Prefix the a code cell with themagic and the reference to the simulator and then run the cell.\n",
    "\n",
    "If you now click the `Run` button in the simulator, the code you ran from the cell will run in the simulator."
   ]
  },
  {
   "cell_type": "code",
   "execution_count": 43,
   "metadata": {},
   "outputs": [],
   "source": [
    "%%sim_magic testSim\n",
    "print(\"hello world\")"
   ]
  },
  {
   "cell_type": "code",
   "execution_count": null,
   "metadata": {},
   "outputs": [],
   "source": []
  }
 ],
 "metadata": {
  "kernelspec": {
   "display_name": "Python 3",
   "language": "python",
   "name": "python3"
  },
  "language_info": {
   "codemirror_mode": {
    "name": "ipython",
    "version": 3
   },
   "file_extension": ".py",
   "mimetype": "text/x-python",
   "name": "python",
   "nbconvert_exporter": "python",
   "pygments_lexer": "ipython3",
   "version": "3.7.6"
  }
 },
 "nbformat": 4,
 "nbformat_minor": 2
}
